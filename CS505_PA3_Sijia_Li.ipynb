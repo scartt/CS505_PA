{
  "nbformat": 4,
  "nbformat_minor": 0,
  "metadata": {
    "colab": {
      "provenance": [],
      "collapsed_sections": [],
      "authorship_tag": "ABX9TyPbtgo3yAWNBSQFyOlvJU4N",
      "include_colab_link": true
    },
    "kernelspec": {
      "name": "python3",
      "display_name": "Python 3"
    },
    "language_info": {
      "name": "python"
    }
  },
  "cells": [
    {
      "cell_type": "markdown",
      "metadata": {
        "id": "view-in-github",
        "colab_type": "text"
      },
      "source": [
        "<a href=\"https://colab.research.google.com/github/scartt/CS505_PA/blob/main/CS505_PA3_Sijia_Li.ipynb\" target=\"_parent\"><img src=\"https://colab.research.google.com/assets/colab-badge.svg\" alt=\"Open In Colab\"/></a>"
      ]
    },
    {
      "cell_type": "code",
      "source": [
        "from google.colab import drive\n",
        "drive.mount('/content/drive')"
      ],
      "metadata": {
        "colab": {
          "base_uri": "https://localhost:8080/"
        },
        "id": "Rb9Xn2p_l5nN",
        "outputId": "1a7f1f8f-62d6-4c44-bcc9-d69875c9ca37"
      },
      "execution_count": 84,
      "outputs": [
        {
          "output_type": "stream",
          "name": "stdout",
          "text": [
            "Drive already mounted at /content/drive; to attempt to forcibly remount, call drive.mount(\"/content/drive\", force_remount=True).\n"
          ]
        }
      ]
    },
    {
      "cell_type": "code",
      "source": [
        "# Sijia Li\n",
        "# CS505 PA3\n",
        "# scartt@bu.edu\n",
        "# Hi, there are some problems with my initial scraping, so I only write the functions in some tasks without load the data. "
      ],
      "metadata": {
        "id": "2Ld_m0exstQo"
      },
      "execution_count": 85,
      "outputs": []
    },
    {
      "cell_type": "markdown",
      "source": [
        "## Task 1 Scape and import the data"
      ],
      "metadata": {
        "id": "g0bsflomkZX7"
      }
    },
    {
      "cell_type": "code",
      "source": [
        "#import libraries\n",
        "import requests\n",
        "import urllib.request\n",
        "from urllib.request import urlopen\n",
        "from bs4 import BeautifulSoup\n",
        "import time # for setting up a delay on getting htmls from wiki server.\n",
        "from tqdm import tqdm\n",
        "import numpy as np\n",
        "import pandas as pd\n",
        "import sys\n",
        "import csv\n",
        "\n",
        "# First, get the page info from wiki server given an URL.\n",
        "def getPageFromWiki(url):\n",
        "  html = urlopen(url) \n",
        "  soup = BeautifulSoup(html, 'html.parser')\n",
        "  return soup\n",
        "\n",
        "# Second, get the title of the wiki page\n",
        "def getHeading(soup):\n",
        "  heading = \"\"\n",
        "  heading = soup.title\n",
        "  return heading\n",
        "\n",
        "# Third, get the article part of the wiki page \n",
        "def getContent(page):\n",
        "  content = \"\"\n",
        "  content = page.get_text()\n",
        "  return content\n",
        "\n",
        "# Fourth, get the links that the article part mentioned and specifically, linking to other wiki pages.\n",
        "def getLinks(page):\n",
        "  linksDict = {}\n",
        "  for link in page.findAll('a'):\n",
        "    linksDict[link.title]=link.get('href')\n",
        "  return linksDict"
      ],
      "metadata": {
        "id": "mAy7k-rjlz9D"
      },
      "execution_count": 86,
      "outputs": []
    },
    {
      "cell_type": "code",
      "source": [
        "# Once you've implemented the above functions, run the following piece to see if a dictionary that contains the wiki articles we scraped.\n",
        "# Run a for loop to get all the article contents from Wikipedia.\n",
        "pageDict = {}\n",
        "\n",
        "page = getPageFromWiki('https://en.wikipedia.org/wiki/Fishing') # scrap the main page we want. \n",
        "header = getHeading(page)\n",
        "content = getContent(page)\n",
        "pageDict[header] = content\n",
        "print(pageDict)\n",
        "\n",
        "linksDict = getLinks(page) # get the links contained in the article part of the page.\n",
        "print(\"a set of {} links are found.\".format(len(linksDict)))\n",
        "\n",
        "for title in tqdm(list(linksDict.keys())): # set up a loop to , set a delay at each iteration\n",
        "  url = linksDict[title]\n",
        "  page = getPageFromWiki(url)\n",
        "  header = getHeading(page)\n",
        "  content = getContent(page)\n",
        "  pageDict[header] = content\n",
        "  time.sleep(1) # Remember to set a delay >=1 second so you won't break the server.\n",
        "\n",
        "print(\"a size of {} content dictionary is built.\".format(len(pageDict)))"
      ],
      "metadata": {
        "id": "tMUFJ9wQkZ3z",
        "colab": {
          "base_uri": "https://localhost:8080/"
        },
        "outputId": "d37a035a-3d5f-4fe5-9460-d0c88999bee2"
      },
      "execution_count": 87,
      "outputs": [
        {
          "output_type": "stream",
          "name": "stdout",
          "text": [
            "{<title>Fishing - Wikipedia</title>: '\\n\\n\\n\\nFishing - Wikipedia\\ndocument.documentElement.className=\"client-js\";RLCONF={\"wgBreakFrames\":false,\"wgSeparatorTransformTable\":[\"\",\"\"],\"wgDigitTransformTable\":[\"\",\"\"],\"wgDefaultDateFormat\":\"dmy\",\"wgMonthNames\":[\"\",\"January\",\"February\",\"March\",\"April\",\"May\",\"June\",\"July\",\"August\",\"September\",\"October\",\"November\",\"December\"],\"wgRequestId\":\"b972d2dc-3c56-4be1-a221-ccea1c987041\",\"wgCSPNonce\":false,\"wgCanonicalNamespace\":\"\",\"wgCanonicalSpecialPageName\":false,\"wgNamespaceNumber\":0,\"wgPageName\":\"Fishing\",\"wgTitle\":\"Fishing\",\"wgCurRevisionId\":1113942214,\"wgRevisionId\":1113942214,\"wgArticleId\":36581,\"wgIsArticle\":true,\"wgIsRedirect\":false,\"wgAction\":\"view\",\"wgUserName\":null,\"wgUserGroups\":[\"*\"],\"wgCategories\":[\"All articles with dead external links\",\"Articles with dead external links from October 2017\",\"Articles with permanently dead external links\",\"Articles with dead external links from December 2020\",\"Webarchive template wayback links\",\"Articles with short description\",\"Short description matches Wikidata\",\\n\"Use dmy dates from December 2020\",\"Wikipedia articles needing clarification from November 2019\",\"Free-content attribution\",\"Free content from United Nations Environment Programme\",\"Pages using Sister project links with wikidata namespace mismatch\",\"Pages using Sister project links with hidden wikidata\",\"Pages using Sister project links with default search\",\"Articles with BNF identifiers\",\"Articles with GND identifiers\",\"Articles with J9U identifiers\",\"Articles with LCCN identifiers\",\"Articles with NKC identifiers\",\"Articles with HDS identifiers\",\"Articles with NARA identifiers\",\"Articles with multiple identifiers\",\"Fishing\",\"Survival skills\"],\"wgPageContentLanguage\":\"en\",\"wgPageContentModel\":\"wikitext\",\"wgRelevantPageName\":\"Fishing\",\"wgRelevantArticleId\":36581,\"wgIsProbablyEditable\":true,\"wgRelevantPageIsProbablyEditable\":true,\"wgRestrictionEdit\":[],\"wgRestrictionMove\":[],\"wgFlaggedRevsParams\":{\"tags\":{\"status\":{\"levels\":1}}},\"wgVisualEditor\":{\"pageLanguageCode\":\"en\",\"pageLanguageDir\"\\n:\"ltr\",\"pageVariantFallbacks\":\"en\"},\"wgMFDisplayWikibaseDescriptions\":{\"search\":true,\"nearby\":true,\"watchlist\":true,\"tagline\":false},\"wgWMESchemaEditAttemptStepOversample\":false,\"wgWMEPageLength\":50000,\"wgNoticeProject\":\"wikipedia\",\"wgVector2022PreviewPages\":[],\"wgMediaViewerOnClick\":true,\"wgMediaViewerEnabledByDefault\":true,\"wgPopupsFlags\":10,\"wgULSCurrentAutonym\":\"English\",\"wgEditSubmitButtonLabelPublish\":true,\"wgCentralAuthMobileDomain\":false,\"wgULSPosition\":\"interlanguage\",\"wgULSisCompactLinksEnabled\":true,\"wgWikibaseItemId\":\"Q14373\",\"GEHomepageSuggestedEditsEnableTopics\":true,\"wgGETopicsMatchModeEnabled\":false,\"wgGEStructuredTaskRejectionReasonTextInputEnabled\":false};RLSTATE={\"ext.globalCssJs.user.styles\":\"ready\",\"site.styles\":\"ready\",\"user.styles\":\"ready\",\"ext.globalCssJs.user\":\"ready\",\"user\":\"ready\",\"user.options\":\"loading\",\"ext.cite.styles\":\"ready\",\"mediawiki.page.gallery.styles\":\"ready\",\"skins.vector.styles.legacy\":\"ready\",\"jquery.makeCollapsible.styles\":\"ready\",\\n\"ext.visualEditor.desktopArticleTarget.noscript\":\"ready\",\"ext.wikimediaBadges\":\"ready\",\"ext.uls.interlanguage\":\"ready\",\"wikibase.client.init\":\"ready\"};RLPAGEMODULES=[\"ext.cite.ux-enhancements\",\"site\",\"mediawiki.page.ready\",\"jquery.makeCollapsible\",\"mediawiki.toc\",\"skins.vector.legacy.js\",\"mmv.head\",\"mmv.bootstrap.autostart\",\"ext.visualEditor.desktopArticleTarget.init\",\"ext.visualEditor.targetLoader\",\"ext.eventLogging\",\"ext.wikimediaEvents\",\"ext.navigationTiming\",\"ext.cx.eventlogging.campaigns\",\"ext.quicksurveys.init\",\"ext.centralNotice.geoIP\",\"ext.centralNotice.startUp\",\"ext.gadget.ReferenceTooltips\",\"ext.gadget.charinsert\",\"ext.gadget.extra-toolbar-buttons\",\"ext.gadget.switcher\",\"ext.centralauth.centralautologin\",\"ext.popups\",\"ext.uls.compactlinks\",\"ext.uls.interface\",\"ext.growthExperiments.SuggestedEditSession\"];\\n(RLQ=window.RLQ||[]).push(function(){mw.loader.implement(\"user.options@12s5i\",function($,jQuery,require,module){mw.user.tokens.set({\"patrolToken\":\"+\\\\\\\\\",\"watchToken\":\"+\\\\\\\\\",\"csrfToken\":\"+\\\\\\\\\"});});});\\n\\n\\n\\n\\n\\n\\n\\n\\n\\n\\n\\n\\n\\n\\n\\n\\n\\n\\n\\n\\n\\n\\n\\n\\n\\n\\n\\n\\n\\n\\n\\n\\n\\n\\n\\n\\n\\n\\n\\n\\nFishing\\n\\nFrom Wikipedia, the free encyclopedia\\n\\n\\n\\nJump to navigation\\nJump to search\\nActivity of trying to catch fish\\n.mw-parser-output .hatnote{font-style:italic}.mw-parser-output div.hatnote{padding-left:1.6em;margin-bottom:0.5em}.mw-parser-output .hatnote i{font-style:normal}.mw-parser-output .hatnote+link+.hatnote{margin-top:-0.5em}For other uses, see Fishing (disambiguation).\\n\\n\\n.mw-parser-output .tmulti .multiimageinner{display:flex;flex-direction:column}.mw-parser-output .tmulti .trow{display:flex;flex-direction:row;clear:left;flex-wrap:wrap;width:100%;box-sizing:border-box}.mw-parser-output .tmulti .tsingle{margin:1px;float:left}.mw-parser-output .tmulti .theader{clear:both;font-weight:bold;text-align:center;align-self:center;background-color:transparent;width:100%}.mw-parser-output .tmulti .thumbcaption{background-color:transparent}.mw-parser-output .tmulti .text-align-left{text-align:left}.mw-parser-output .tmulti .text-align-right{text-align:right}.mw-parser-output .tmulti .text-align-center{text-align:center}@media all and (max-width:720px){.mw-parser-output .tmulti .thumbinner{width:100%!important;box-sizing:border-box;max-width:none!important;align-items:center}.mw-parser-output .tmulti .trow{justify-content:center}.mw-parser-output .tmulti .tsingle{float:none!important;max-width:100%!important;box-sizing:border-box;text-align:center}.mw-parser-output .tmulti .tsingle .thumbcaption{text-align:left}.mw-parser-output .tmulti .trow>.thumbcaption{text-align:center}}Stilts fishermen, Sri LankaFishing with nets, Mexico\\nFishing is the activity of trying to catch fish. Fish are often caught as wildlife from the natural environments, but may also be caught from stocked bodies of water such as ponds, canals, park wetlands and reservoirs. Fishing techniques include hand-gathering, spearing, netting, angling, shooting and trapping, as well as more destructive and often illegal techniques such as electrocution, blasting and poisoning.\\nThe term fishing broadly includes catching aquatic animals other than fish, such as crustaceans (shrimp/lobsters/crabs), shellfish, cephalopods (octopus/squid) and echinoderms (starfish/sea urchins). The term is not normally applied to harvesting fish raised in controlled cultivations (fish farming). Nor is it normally applied to hunting aquatic mammals, where terms like whaling and sealing are used instead.\\nFishing has been an important part of human culture since hunter-gatherer times, and is one of the few food production activities that have persisted from prehistory into modern age, surviving both the Neolithic Revolution and successive Industrial Revolutions. In addition to being caught to be eaten for food, fish are caught as recreational pastimes. Fishing tournaments are held, and caught fish are sometimes kept long-term as preserved or living trophies. When bioblitzes occur, fish are typically caught, identified, and then released.\\nAccording to the United Nations FAO statistics, the total number of commercial fishers and fish farmers is estimated to be 38 million. Fishing industries and aquaculture provide direct and indirect employment to over 500 million people in developing countries.[1] In 2005, the worldwide per capita consumption of fish captured from wild fisheries was 14.4 kilograms (32\\xa0lb), with an additional 7.4 kilograms (16\\xa0lb) harvested from fish farms.[2]\\n\\nContents\\n\\n1 History\\n\\n1.1 Trawling\\n1.2 Recreational fishing\\n\\n\\n2 Techniques\\n3 Tackle\\n4 Fishing vessels\\n5 Traditional fishing\\n6 Recreational fishing\\n7 Fishing industry\\n\\n7.1 Commercial fishing\\n7.2 Fish farms\\n7.3 Fish products\\n7.4 Fish marketing\\n\\n\\n8 Fisheries management\\n\\n8.1 Sustainability\\n\\n\\n9 Animal welfare concerns\\n10 Plastic pollution\\n11 Cultural impact\\n12 See also\\n13 Notes\\n14 References\\n15 Sources\\n16 Further reading\\n17 External links\\n\\n\\nHistory[edit]\\n Stone Age fish hook made from bone\\nMain articles: History of fishing and History of seafood\\nFishing is an ancient practise that dates back to at least the beginning of the Upper Paleolithic period about 40,000 years ago.[3] Isotopic analysis of the remains of Tianyuan man, a 40,000-year-old modern human from eastern Asia, has shown that he regularly consumed freshwater fish.[4][5] Archaeology features such as shell middens,[6] discarded fish bones, and cave paintings show that sea foods were important for survival and consumed in significant quantities. Fishing in Africa is evident very early on in human history. Neanderthals were fishing by about 200,000 BC.[7] People could have developed basketry for fish traps, and spinning and early forms of knitting in order to make fishing nets[8] to be able to catch more fish in larger quantities.\\nDuring this period, most people lived a hunter-gatherer lifestyle and were, of necessity, constantly on the move. However, where there are early examples of permanent settlements (though not necessarily permanently occupied) such as those at Lepenski Vir, they are almost always associated with fishing as a major source of food.\\n\\nTrawling[edit]\\nThe British dogger was a very early type of sailing trawler from the 17th century, but the modern fishing trawler was developed in the 19th century, at the English fishing port of Brixham. By the early 19th century, the fishers at Brixham needed to expand their fishing area further than ever before due to the ongoing depletion of stocks that was occurring in the overfished waters of South Devon. The Brixham trawler that evolved there was of a sleek build and had a tall gaff rig, which gave the vessel sufficient speed to make long-distance trips out to the fishing grounds in the ocean. They were also sufficiently robust to be able to tow large trawls in deep water. The great trawling fleet that built up at Brixham earned the village the title of \\'Mother of Deep-Sea Fisheries\\'.[9]\\n\\n Painting of A Brixham trawler by William Adolphus Knell. The painting is now in the National Maritime Museum.\\nThis revolutionary design made large scale trawling in the ocean possible for the first time, resulting in a massive migration of fishers from the ports in the South of England, to villages further north, such as Scarborough, Hull, Grimsby, Harwich and Yarmouth, that were points of access to the large fishing grounds in the Atlantic Ocean.[9]\\nThe small village of Grimsby grew to become the largest fishing port in the world[10] by the mid 19th century. An Act of Parliament was first obtained in 1796, which authorised the construction of new quays and dredging of the Haven to make it deeper.[11] It was only in 1846, with the tremendous expansion in the fishing industry, that the Grimsby Dock Company was formed. The foundation stone for the Royal Dock was laid by Albert the Prince consort in 1849. The dock covered 25 acres (10\\xa0ha) and was formally opened by Queen Victoria in 1854 as the first modern fishing port.\\nThe elegant Brixham trawler spread across the world, influencing fishing fleets everywhere.[12] By the end of the 19th century, there were over 3,000 fishing trawlers in commission in Britain, with almost 1,000 at Grimsby. These trawlers were sold to fishers around Europe, including from the Netherlands and Scandinavia. Twelve trawlers went on to form the nucleus of the German fishing fleet.[13]\\nThe earliest steam-powered fishing boats first appeared in the 1870s and used the trawl system of fishing as well as lines and drift nets. These were large boats, usually 80–90 feet (24–27\\xa0m) in length with a beam of around 20 feet (6.1\\xa0m). They weighed 40–50 tons and travelled at 9–11 knots (17–20\\xa0km/h; 10–13\\xa0mph). The earliest purpose-built fishing vessels were designed and made by David Allan in Leith, Scotland in March 1875, when he converted a drifter to steam power. In 1877, he built the first screw propelled steam trawler in the world.[14]\\nSteam trawlers were introduced at Grimsby and Hull in the 1880s. In 1890 it was estimated that there were 20,000 men on the North Sea. The steam drifter was not used in the herring fishery until 1897. The last sailing fishing trawler was built in 1925 in Grimsby. Trawler designs adapted as the way they were powered changed from sail to coal-fired steam by World War I to diesel and turbines by the end of World War II.\\nIn 1931, the first powered drum was created by Laurie Jarelainen. The drum was a circular device that was set to the side of the boat and would draw in the nets. Since World War II, radio navigation aids and fish finders have been widely used. The first trawlers fished over the side, rather than over the stern. The first purpose-built stern trawler was Fairtry built-in 1953 at Aberdeen, Scotland. The ship was much larger than any other trawlers then in operation and inaugurated the era of the \\'super trawler\\'. As the ship pulled its nets over the stern, it could lift out a much greater haul of up to 60 tons.[15] The ship served as a basis for the expansion of \\'super trawlers\\' around the world in the following decades.[15]\\n\\nRecreational fishing[edit]\\nMain article: Recreational fishing\\n Izaak Walton\\'s Compleat Angler, published in 1653 helped popularise fly fishing as a sport.Woodcut by Louis Rhead\\nThe early evolution of fishing as recreation is not clear. For example, there is anecdotal evidence for fly fishing in Japan, however, fly fishing was likely to have been a means of survival, rather than recreation. The earliest English essay on recreational fishing was published in 1496, by Dame Juliana Berners, the prioress of the Benedictine Sopwell Nunnery. The essay was titled Treatyse of Fysshynge wyth an Angle,[16] and included detailed information on fishing waters, the construction of rods and lines, and the use of natural baits and artificial flies.[17]\\nRecreational fishing took a great leap forward after the English Civil War, where a newly found interest in the activity left its mark on the many books and treatises that were written on the subject at the time. Leonard Mascall in 1589 wrote A booke of Fishing with Hooke and Line along with many others he produced in his life on game and wildlife in England at the time. The Compleat Angler was written by Izaak Walton in 1653 (although Walton continued to add to it for a quarter of a century) and described the fishing in the Derbyshire Wye. It was a celebration of the art and spirit of fishing in prose and verse. A second part to the book was added by Walton\\'s friend Charles Cotton.[18]\\nCharles Kirby designed an improved fishing hook in 1655 that remains relatively unchanged to this day. He went on to invent the Kirby bend, a distinctive hook with an offset point, still commonly used today.[19]\\n\\n Trading card of the Ustonson company, an early firm specializing in fishing equipment, and holder of a Royal Warrant from the 1760s.\\nThe 18th century was mainly an era of consolidation of the techniques developed in the previous century. Running rings began to appear along the fishing rods, which gave anglers greater control over the cast line. The rods themselves were also becoming increasingly sophisticated and specialised for different roles. Jointed rods became common from the middle of the century and bamboo came to be used for the top section of the rod, giving it a much greater strength and flexibility.\\nThe industry also became commercialised – rods and tackle were sold at the haberdashers store. After the Great Fire of London in 1666, artisans moved to Redditch which became a centre of production of fishing related products from the 1730s. Onesimus Ustonson established his shop in 1761, and his establishment remained as a market leader for the next century. He received a Royal Warrant from three successive monarchs starting with King George IV.[20] He also invented the multiplying winch. The commercialization of the industry came at a time of expanded interest in fishing as a recreational hobby for members of the aristocracy.[21]\\nThe impact of the Industrial Revolution was first felt in the manufacture of fly lines. Instead of anglers twisting their lines – a laborious and time-consuming process – the new textile spinning machines allowed for a variety of tapered lines to be easily manufactured and marketed.\\nBritish fly-fishing continued to develop in the 19th Century, with the emergence of fly fishing clubs, along with the appearance of several books on the subject of fly tying and fly fishing techniques.\\nBy the mid to late 19th century, expanding leisure opportunities for the middle and lower classes began to have its effect on fly fishing, which steadily grew in mass appeal. The expansion of the railway network in Britain allowed the less affluent for the first time to take weekend trips to the seaside or rivers for fishing. Richer hobbyists ventured further abroad.[22] The large rivers of Norway replete with large stocks of salmon began to attract fishers from England in large numbers in the middle of the century – Jones\\'s guide to Norway, and salmon-fisher\\'s pocket companion, published in 1848, was written by Frederic Tolfrey and was a popular guide to the country.[22]\\n\\n \\'Nottingham\\' and \\'Scarborough\\' reel designs.\\nModern reel design had begun in England during the latter part of the 18th century, and the predominant model in use was known as the \\'Nottingham reel\\'. The reel was a wide drum that spooled out freely and was ideal for allowing the bait to drift a long way out with the current. Geared multiplying reels never successfully caught on in Britain, but had more success in the United States, where similar models were modified by George Snyder of Kentucky into his bait-casting reel, the first American-made design in 1810.[23]\\nThe material used for the rod itself changed from the heavy woods native to England to lighter and more elastic varieties imported from abroad, especially from South America and the West Indies. Bamboo rods became the generally favoured option from the mid 19th century, and several strips of the material were cut from the cane, milled into shape, and then glued together to form the light, strong, hexagonal rods with a solid core that were superior to anything that preceded them. George Cotton and his predecessors fished their flies with long rods, and light lines allowing the wind to do most of the work of getting the fly to the fish.[24]\\n\\n Fishing became a popular recreational activity in the 19th century. Print from Currier and Ives.\\nTackle design began to improve from the 1880s. The introduction of new woods to the manufacture of fly rods made it possible to cast flies into the wind on silk lines, instead of horse hair. These lines allowed for a much greater casting distance. However, these early fly lines proved troublesome as they had to be coated with various dressings to make them float and needed to be taken off the reel and dried every four hours or so to prevent them from becoming waterlogged. Another negative consequence was that it became easy for the much longer line to get into a tangle – this was called a \\'tangle\\' in Britain, and a \\'backlash\\' in the US. This problem spurred the invention of the regulator to evenly spool the line out and prevent tangling.[24]\\nThe American, Charles F. Orvis, designed and distributed a novel reel and fly design in 1874, described by reel historian Jim Brown as the \"benchmark of American reel design,\" and the first fully modern fly reel.[25][26]\\nAlbert Illingworth, 1st Baron Illingworth a textiles magnate, patented the modern form of fixed-spool spinning reel in 1905. When casting Illingworth\\'s reel design, the line was drawn off the leading edge of the spool but was restrained and rewound by a line pickup, a device which orbits around the stationary spool. Because the line did not have to pull against a rotating spool, much lighter lures could be cast than with conventional reels.[24]\\nThe development of inexpensive fiberglass rods, synthetic fly lines, and monofilament leaders in the early 1950s, that revived the popularity of fly fishing.\\n\\nTechniques[edit]\\n Fishermen with traditional fish traps, Vietnam\\nMain article: Fishing techniques\\nThere are many fishing techniques and tactics for catching fish. The term can also be applied to methods for catching other aquatic animals such as molluscs (shellfish, squid, octopus) and edible marine invertebrates.\\nFishing techniques include hand gathering, spearfishing, netting, angling and trapping. Recreational, commercial and artisanal fishers use different techniques, and also, sometimes, the same techniques. Recreational fishers fish for pleasure, sport, or to provide food for themselves, while commercial fishers fish for profit. Artisanal fishers use traditional, low-tech methods, for survival in third-world countries, and as a cultural heritage in other countries. Usually, recreational fishers use angling methods and commercial fishers use netting methods. A modern development is to fish with the assistance of a drone.[27]\\nWhy a fish bites a baited hook or lure involves several factors related to the sensory physiology, behaviour, feeding ecology, and biology of the fish as well as the environment and characteristics of the bait/hook/lure.[28] There is an intricate link between various fishing techniques and knowledge about the fish and their behaviour including migration, foraging and habitat. The effective use of fishing techniques often depends on this additional knowledge.[29] Some fishers follow fishing folklores which claim that fish feeding patterns are influenced by the position of the sun and the moon.\\n\\nTackle[edit]\\n An angler on the Kennet and Avon Canal, England, with his tackle\\nMain article: Fishing tackle\\nFishing tackle is the equipment used by fishers when fishing. Almost any equipment or gear used for fishing can be called fishing tackle. Some examples are hooks, lines, sinkers, floats, rods, reels, baits, lures, spears, nets, gaffs, traps, waders and tackle boxes.\\nTackle that is attached to the end of a fishing line is called terminal tackle. This includes hooks, sinkers, floats, leaders, swivels, split rings and wire, snaps, beads, spoons, blades, spinners and clevises to attach spinner blades to fishing lures. People also tend to use dead or live fish as another form of bait.\\nFishing tackle refers to the physical equipment that is used when fishing, whereas fishing techniques refers to the ways the tackle is used when fishing.\\n\\n\\nFishing vessels[edit]\\n Commercial crab boat working in the North Sea\\n Small sport fishing boat\\nSee also: Fishing vessels and Traditional fishing boats\\nA fishing vessel is a boat or ship used to catch fish in the sea, or on a lake or river. Many different kinds of vessels are used in commercial, artisanal and recreational fishing.\\nAccording to the FAO, in 2004 there were four million commercial fishing vessels.[30] About 1.3 million of these are decked vessels with enclosed areas. Nearly all of these decked vessels are mechanised, and 40,000 of them are over 100 tons. At the other extreme, two-thirds (1.8 million) of the undecked boats are traditional craft of various types, powered only by sail and oars.[30] These boats are used by artisan fishers.\\nIt is difficult to estimate how many recreational fishing boats there are, although the number is high. The term is fluid since some recreational boats may also be used for fishing from time to time. Unlike most commercial fishing vessels, recreational fishing boats are often not dedicated just to fishing. Just about anything that will stay afloat can be called a recreational fishing boat, so long as a fisher periodically climbs aboard with the intent to catch a fish. Fish are caught for recreational purposes from boats which range from dugout canoes, float tubes, kayaks, rafts, stand up paddleboards, pontoon boats and small dinghies to runabouts, cabin cruisers and cruising yachts to large, hi-tech and luxurious big game rigs.[31] Larger boats, purpose-built with recreational fishing in mind, usually have large, open cockpits at the stern, designed for convenient fishing.\\n\\n\\nTraditional fishing[edit]\\nMain article: Artisanal fishing\\nTraditional fishing is any kind of small scale, commercial or subsistence fishing practices using traditional techniques such as rod and tackle, arrows and harpoons, throw nets and drag nets, etc.\\n\\nRecreational fishing[edit]\\nMain article: Recreational fishing\\n Angling\\n A fisherman on the rapids in Nukari, Nurmijärvi, Finland\\nRecreational and sport fishing are fishing primarily for pleasure or competition. Recreational fishing has conventions, rules, licensing restrictions and laws that limit how fish may be caught; typically, these prohibit the use of nets and the catching of fish with hooks not in the mouth. The most common form of recreational fishing is done with a rod, reel, line, hooks and any one of a wide range of baits or lures such as artificial flies. The practice of catching or attempting to catch fish with a hook is generally known as angling. In angling, it is sometimes expected or required that fish be returned to the water (catch and release). Recreational or sport fishermen may log their catches or participate in fishing competitions.\\nThe estimated global number of recreational fishers varies from 220 million to a maximum number of 700 million fishers globally,[32] which is thought to be double the amount of individuals working as commercial fishers. In the United States alone it was estimated that 50.1 million people engaged in fishing activities in both saltwater and freshwater environments.[33]\\nBig-game fishing is fishing from boats to catch large open-water species such as tuna, sharks, and marlin. Sportfishing (sometimes game fishing) is recreational fishing where the primary reward is the challenge of finding and catching the fish rather than the culinary or financial value of the fish\\'s flesh. Fish sought after include tarpon, sailfish, mackerel and many others.\\n\\n\\nFishing industry[edit]\\nMain article: Fishing industry\\n\\n\\n\\n\\nContribution of fish to animal protein supply, average 2013-2015\\n\\n\\n\\n\\n\\n\\nWorld capture fisheries and aquaculture production 1950 - 2015\\n\\n\\n\\n\\n Modern Spanish tuna purse seiner in the Seychelles Islands\\nThe fishing industry includes any industry or activity concerned with taking, culturing, processing, preserving, storing, transporting, marketing or selling fish or fish products. It is defined by the FAO as including recreational, subsistence and commercial fishing, and the harvesting, processing, and marketing sectors.[34] The commercial activity is aimed at the delivery of fish and other seafood products for human consumption or use as raw material in other industrial processes.\\nThere are three principal industry sectors:[note 1]\\n\\nThe commercial sector comprises enterprises and individuals associated with wild-catch or aquaculture resources and the various transformations of those resources into products for sale.\\nThe traditional sector comprises enterprises and individuals associated with fisheries resources from which aboriginal people derive products following their traditions.\\nThe recreational sector comprises enterprises and individuals associated with the purpose of recreation, sport or sustenance with fisheries resources from which products are derived that are not for sale.\\nCommercial fishing[edit]\\nMain article: Commercial fishing\\n Fishing boat in heavy sea\\n Push-up trap developed by Swedish University of Agricultural Sciences for more accurate and less harmful fishing\\nCommercial fishing is the capture of fish for commercial purposes. Those who practice it must often pursue fish far from the land under adverse conditions. Commercial fishermen harvest almost all aquatic species, from tuna, cod and salmon to shrimp, krill, lobster, clams, squid and crab, in various fisheries for these species. Commercial fishing methods have become very efficient using large nets and sea-going processing factories. Individual fishing quotas and international treaties seek to control the species and quantities caught.\\nA commercial fishing enterprise may vary from one man with a small boat with hand-casting nets or a few pot traps, to a huge fleet of trawlers processing tons of fish every day.\\nCommercial fishing gear includes weights, nets (e.g. purse seine), seine nets (e.g. beach seine), trawls (e.g. bottom trawl), dredges, hooks and line (e.g. long line and handline), lift nets, gillnets, entangling nets and traps.\\nAccording to the Food and Agriculture Organization of the United Nations, the total world capture fisheries production in 2000 was 86 million tons (FAO 2002). The top producing countries were, in order, the People\\'s Republic of China (excluding Hong Kong and Taiwan), Peru, Japan, the United States, Chile, Indonesia, Russia, India, Thailand, Norway, and Iceland. Those countries accounted for more than half of the world\\'s production; China alone accounted for a third of the world\\'s production. Of that production, over 90% was marine and less than 10% was inland.\\nA small number of species support the majority of the world\\'s fisheries. Some of these species are herring, cod, anchovy, tuna, flounder, mullet, squid, shrimp, salmon, crab, lobster, oyster and scallops. All except these last four provided a worldwide catch of well over a million tonnes in 1999, with herring and sardines together providing a catch of over 22 million metric tons in 1999. Many other species as well are fished in smaller numbers.\\n\\nFish farms[edit]\\nMain article: Fish farm\\nFish farming is the principal form of aquaculture, while other methods may fall under mariculture. It involves raising fish commercially in tanks or enclosures, usually for food. A facility that releases juvenile fish into the wild for recreational fishing or to supplement a species\\' natural population is generally referred to as a fish hatchery. Fish species raised by fish farms include salmon, carp, tilapia, catfish and trout.\\nIncreased demands on wild fisheries by commercial fishing has caused widespread overfishing. Fish farming offers an alternative solution to the increasing market demand for fish.\\n\\n Gyula Derkovits, still-life with fish (1928)\\nFish products[edit]\\nSee also: Fish processing, Fish products, Fish (food), and Seafood\\nFish and fish products are consumed as food all over the world. With other seafoods, it provides the world\\'s prime source of high-quality protein: 14–16 percent of the animal protein consumed worldwide. Over one billion people rely on fish as their primary source of animal protein.[36]\\nFish and other aquatic organisms are also processed into various food and non-food products, such as sharkskin leather, pigments made from the inky secretions of cuttlefish, isinglass used for the clarification of wine and beer, fish emulsion used as a fertiliser, fish glue, fish oil and fish meal.\\nFish are also collected live for research and the aquarium trade.\\n\\nFish marketing[edit]\\nSee also: Fish market and Fish marketing\\n\\nFisheries management[edit]\\n Fishing down the food web\\nMain articles: Fisheries management and Fisheries science\\nFisheries management draws on fisheries science to find ways to protect fishery resources so sustainable exploitation is possible. Modern fisheries management is often referred to as a governmental system of (hopefully appropriate) management rules based on defined objectives and a mix of management means to implement the rules, which are put in place by a system of monitoring control and surveillance.\\nFisheries science is the academic discipline of managing and understanding fisheries. It is a multidisciplinary science, which draws on the disciplines of oceanography, marine biology, marine conservation, ecology, population dynamics, economics and management in an attempt to provide an integrated picture of fisheries. In some cases new disciplines have emerged, such as bioeconomics.\\n\\nSustainability[edit]\\nMain article: Sustainable fishing\\nIssues involved in the long term sustainability of fishing include overfishing, by-catch, marine pollution, environmental effects of fishing, climate change and fish farming.\\nConservation issues are part of marine conservation, and are addressed in fisheries science programs. There is a growing gap between how many fish are available to be caught and humanity\\'s desire to catch them, a problem that gets worse as the world population grows.\\nSimilar to other environmental issues, there can be conflict between the fishermen who depend on fishing for their livelihoods and fishery scientists who realise that if future fish populations are to be sustainable then some fisheries must limit fishing or cease operations.\\n\\n\\nAnimal welfare concerns[edit]\\nFurther information: Animal welfare and Pain in fish\\nHistorically, some doubted that fish could experience pain. Laboratory experiments have shown that fish do react to painful stimuli (e.g., injections of bee venom) in a similar way to mammals.[37][38] This is controversial and has been disputed.[further explanation needed][39] The expansion of fish farming as well as animal welfare concerns in society has led to research into more humane and faster ways of killing fish.[40]\\nIn large-scale operations like fish farms, stunning fish with electricity or putting them into water saturated with nitrogen so that they cannot breathe, results in death more rapidly than just taking them out of the water. For sport fishing, it is recommended that fish be killed soon after catching them by hitting them on the head followed by bleeding out or by stabbing the brain with a sharp object[41] (called pithing or ike jime in Japanese). Some believe it is not cruel if you release the catch back to where it was caught however a study in 2018 states that the hook damages an important part of the feeding mechanism by which the fish sucks in food, ignoring the issue of pain.[42]\\nWhen fishing there are high chances of catching other marine wildlife in a fishing net. There are over 100 different fishing regulations on paper for reducing this bycatch. [43]\\n\\nPlastic pollution[edit]\\nAbandoned, lost, or otherwise discarded fishing gear includes netting, mono/multifilament lines, hooks, ropes, floats, buoys, sinkers, anchors, metallic materials and fish aggregating devices (FADs) made of non-biodegradable materials such as concrete, metal and polymers. It has been estimated that global fishing gear losses each year include 5.7% of all fishing nets, 8.6% of all traps and 29% of all lines used. Abandoned, lost, or otherwise discarded fishing gear (ALDFG) can have serious impacts on marine organisms through entanglement and ingestion.[44] The potential for fishing gear to become ALDFG depends on a number of factors including:\\n\\nEnvironmental factors are mostly related to seafloor topography and obstructions, although tides, currents, waves, winds, and interaction with wildlife are also important.\\nOperational losses and operator errors can occur even during normal fishing operations.\\nProblems such as inadequate fisheries management and regulations that do not include adequate controls can hamper collection of ALDFG (e.g. there may be poor access to collection facilities).\\nGear loss resulting from conflicts primarily occurs (intentionally or unintentionally) in areas with high concentrations of fishing activities, leading to gear being towed away, fouled, sabotaged or vandalized. Passive and unattended gear such as pots, set gillnets and traps are particularly prone to conflict damage. In the Arctic, conflicts are the most common reason for lost gear.[44]\\nCultural impact[edit]\\n Ona, a traditional fishing village in Norway\\n Kaibarta woman with traditional fish catching device made from bamboo in Assam\\nCommunity\\nFor communities like fishing villages, fisheries provide not only a source of food and work but also a community and cultural identity.[45]\\nEconomic\\nSome locations may be regarded as fishing destinations, which anglers visit on vacation or for competitions. The economic impact of fishing by visitors may be a significant, or even primary driver of tourism revenue for some destinations.\\nSemantic\\nA \"fishing expedition\" is a situation where an interviewer implies they know more than they do to trick their target into divulging more information than they wish to reveal. Other examples of fishing terms that carry a negative connotation are: \"fishing for compliments\", \"to be fooled hook, line and sinker\" (to be fooled beyond merely \"taking the bait\"), and the internet scam of phishing, in which a third party will duplicate a website where the user would put sensitive information (such as bank codes).\\nReligious\\nFishing has had an effect on major religions,[46] including Christianity,[47][48] Hinduism, and the various new age[49] religions. Jesus was said to participate in fishing excursions, and a number of the miracles and many parables and stories reported in the Bible involve fish or fishing. Since the Apostle Peter[50] was a fisherman, the Catholic Church has adopted the use of the fishermans ring into the Pope\\'s traditional vestments.\\nSee also[edit]\\n.mw-parser-output .portalbox{padding:0}.mw-parser-output .portalborder{border:solid #aaa 1px}.mw-parser-output .portalbox.tleft{margin:0.5em 1em 0.5em 0}.mw-parser-output .portalbox.tright{margin:0.5em 0 0.5em 1em}.mw-parser-output .portalbox>ul{display:table;box-sizing:border-box;max-width:175px;font-size:85%;line-height:110%;font-style:italic;font-weight:bold}.mw-parser-output .portalborder>ul{padding:0.1em;background:#f9f9f9}.mw-parser-output .portalbox>ul>li{display:table-row}.mw-parser-output .portalbox>ul>li>span:first-child{display:table-cell;padding:0.2em;vertical-align:middle;text-align:center}.mw-parser-output .portalbox>ul>li>span:last-child{display:table-cell;padding:0.2em 0.2em 0.2em 0.3em;vertical-align:middle}\\n\\nFish portal\\n.mw-parser-output .div-col{margin-top:0.3em;column-width:30em}.mw-parser-output .div-col-small{font-size:90%}.mw-parser-output .div-col-rules{column-rule:1px solid #aaa}.mw-parser-output .div-col dl,.mw-parser-output .div-col ol,.mw-parser-output .div-col ul{margin-top:0}.mw-parser-output .div-col li,.mw-parser-output .div-col dd{page-break-inside:avoid;break-inside:avoid-column}\\nAngling\\nArtisanal fishing\\nHistory of fishing\\nList of fishing villages\\nRecreational fishing\\n\\nNotes[edit]\\n.mw-parser-output .reflist{font-size:90%;margin-bottom:0.5em;list-style-type:decimal}.mw-parser-output .reflist .references{font-size:100%;margin-bottom:0;list-style-type:inherit}.mw-parser-output .reflist-columns-2{column-width:30em}.mw-parser-output .reflist-columns-3{column-width:25em}.mw-parser-output .reflist-columns{margin-top:0.3em}.mw-parser-output .reflist-columns ol{margin-top:0}.mw-parser-output .reflist-columns li{page-break-inside:avoid;break-inside:avoid-column}.mw-parser-output .reflist-upper-alpha{list-style-type:upper-alpha}.mw-parser-output .reflist-upper-roman{list-style-type:upper-roman}.mw-parser-output .reflist-lower-alpha{list-style-type:lower-alpha}.mw-parser-output .reflist-lower-greek{list-style-type:lower-greek}.mw-parser-output .reflist-lower-roman{list-style-type:lower-roman}\\n\\n^ The wording of the following definitions of the fishing industry are based on those used by the Australian government.[35]\\n\\n\\nReferences[edit]\\n\\n\\n^ Fisheries and Aquaculture in our Changing Climate Policy brief of the FAO for the UNFCCC COP-15 in Copenhagen, December 2009.\\n\\n^ .mw-parser-output cite.citation{font-style:inherit;word-wrap:break-word}.mw-parser-output .citation q{quotes:\"\\\\\"\"\"\\\\\"\"\"\\'\"\"\\'\"}.mw-parser-output .citation:target{background-color:rgba(0,127,255,0.133)}.mw-parser-output .id-lock-free a,.mw-parser-output .citation .cs1-lock-free a{background:linear-gradient(transparent,transparent),url(\"//upload.wikimedia.org/wikipedia/commons/6/65/Lock-green.svg\")right 0.1em center/9px no-repeat}.mw-parser-output .id-lock-limited a,.mw-parser-output .id-lock-registration a,.mw-parser-output .citation .cs1-lock-limited a,.mw-parser-output .citation .cs1-lock-registration a{background:linear-gradient(transparent,transparent),url(\"//upload.wikimedia.org/wikipedia/commons/d/d6/Lock-gray-alt-2.svg\")right 0.1em center/9px no-repeat}.mw-parser-output .id-lock-subscription a,.mw-parser-output .citation .cs1-lock-subscription a{background:linear-gradient(transparent,transparent),url(\"//upload.wikimedia.org/wikipedia/commons/a/aa/Lock-red-alt-2.svg\")right 0.1em center/9px no-repeat}.mw-parser-output .cs1-ws-icon a{background:linear-gradient(transparent,transparent),url(\"//upload.wikimedia.org/wikipedia/commons/4/4c/Wikisource-logo.svg\")right 0.1em center/12px no-repeat}.mw-parser-output .cs1-code{color:inherit;background:inherit;border:none;padding:inherit}.mw-parser-output .cs1-hidden-error{display:none;color:#d33}.mw-parser-output .cs1-visible-error{color:#d33}.mw-parser-output .cs1-maint{display:none;color:#3a3;margin-left:0.3em}.mw-parser-output .cs1-format{font-size:95%}.mw-parser-output .cs1-kern-left{padding-left:0.2em}.mw-parser-output .cs1-kern-right{padding-right:0.2em}.mw-parser-output .citation .mw-selflink{font-weight:inherit}\"Fisheries and Aquaculture\". FAO. Retrieved 1 July 2012.\\n\\n^ African Bone Tools Dispute Key Idea About Human Evolution National Geographic News article. (archived 17 January 2006)\\n\\n^ Yaowu Hu, Y; Hong Shang, H; Haowen Tong, H; Olaf Nehlich, O; Wu Liu, W; Zhao, C; Yu, J; Wang, C; Trinkaus, E; Richards, M (2009). \"Stable isotope dietary analysis of the Tianyuan 1 early modern human\". Proceedings of the National Academy of Sciences. 106 (27): 10971–74. Bibcode:2009PNAS..10610971H. doi:10.1073/pnas.0904826106. PMC\\xa02706269. PMID\\xa019581579.\\n\\n^ First direct evidence of substantial fish consumption by early modern humans in China PhysOrg.com, 6 July 2009.\\n\\n^ Coastal Shell Middens and Agricultural Origins in Atlantic Europe.\\n\\n^ \"History of fishing – fishing nets, shellfish, boats\". quatr.us Study Guides. 12 June 2017. Retrieved 2 May 2018.\\n\\n^ \"History of fishing – fishing nets, shellfish, boats\". quatr.us Study Guides. 12 June 2017. Retrieved 2 May 2018.\\n\\n^ a b \"History of a Brixham trawler\". JKappeal.org. 2 March 2009. Archived from the original on 2 December 2010. Retrieved 13 September 2010.\\n\\n^ Days out: \"Gone fishing in Grimsby\"[permanent dead link] The Independent, 8 September 2002[dead link]\\n\\n^ \"A brief history of Grimsby\". localhistories.org. 14 March 2021.\\n\\n^ \"Pilgrim\\'s restoration under full sail\". BBC. BBC. Archived from the original on 17 November 2002. Retrieved 2 March 2009.\\n\\n^ Sailing trawlers. issuu.\\n\\n^ \"The Steam Trawler\".\\n\\n^ a b \"HISTORY\". Archived from the original on 21 August 2013. Retrieved 16 July 2014.\\n\\n^ Berners, Dame Juliana (1496) A treatyse of fysshynge wyth an Angle (transcription by Risa S. Bear).\\n\\n^ Berners, Dame Juliana. (2008). In Encyclopædia Britannica. Retrieved 20 June 2008, from Encyclopædia Britannica Online\\n\\n^ Andrew N. Herd. \"Fly fishing techniques in the fifteenth century\".\\n\\n^ Stan L. Ulanski (2003). The Science of Fly-fishing. University of Virginia Press. p.\\xa04. ISBN\\xa0978-0-8139-2210-2.\\n\\n^ \"Welcome To Great Fly Fishing Tips\". December 2011. Archived from the original on 27 June 2017. Retrieved 16 July 2014.\\n\\n^ \"Fishing Tackle Chapter 3\" (PDF). CLAM PRODUCTIONS. Archived from the original (PDF) on 18 September 2013. Retrieved 16 July 2014.\\n\\n^ a b Andrew N. Herd. \"Fly Fishing in the Years 1800–1850\". Archived from the original on 3 July 2014. Retrieved 16 July 2014.\\n\\n^ Andrew N. Herd. \"Fly Fishing in the Eighteenth Century\". Archived from the original on 19 July 2014. Retrieved 16 July 2014.\\n\\n^ a b c \"fishing\". Encyclopedia Britannica.\\n\\n^ Brown, Jim. A Treasury of Reels: The Fishing Reel Collection of The American Museum of Fly Fishing. Manchester, Vermont: The American Museum of Fly Fishing, 1990.\\n\\n^ Schullery, Paul. The Orvis Story: 150 Years of an American Sporting Tradition. Manchester, Vermont, The Orvis Company, Inc., 2006\\n\\n^ Fishing with a drone Stuff, 15 December 2015.\\n\\n^ Lennox, Robert J; Alós, Josep; Arlinghaus, Robert; Horodysky, Andrij; Klefoth, Thomas; Monk, Christopher T; Cooke, Steven J (2017). \"What makes fish vulnerable to capture by hooks? A conceptual framework and a review of key determinants\". Fish and Fisheries. 18 (5): 986–1010. doi:10.1111/faf.12219. ISSN\\xa01467-2979.\\n\\n^ Keegan, William F (1986) New Series, Volume. 88, No. 1., pp. 92–107.\\n\\n^ a b FAO 2007\\n\\n^ NOAA: Sport fishing boat\\n\\n^ FAO. \"The role of Recreational Fisheries in the sustainable management of marine resources | GLOBEFISH | Food and Agriculture Organization of the United Nations\". www.fao.org. Food and Agriculture Organization of the United Nations. Retrieved 2 February 2021.\\n\\n^ Lange, David. \"Topic: Recreational Fishing in the U.S.\" Statista.\\n\\n^ FAO Fisheries Section: Glossary: Fishing industry. Retrieved 28 May 2008.\\n\\n^ \"Today\\'s Fishing Industry\". Fisheries Research and Development Corporation. 10 December 2007. Archived from the original on 14 June 2009. Retrieved 26 July 2012.\\n\\n^ Tidwell, James H. and Allan, Geoff L.\\n\\n^ Sneddon, LU (2009). \"Pain perception in fish: indicators and endpoints\". ILAR Journal. 50 (4): 38–42. doi:10.1093/ilar.50.4.338. PMID\\xa019949250.\\n\\n^ Oidtmann, B; Hoffman, RW (July–August 2001). \"Pain and suffering in fish\". Berliner und Münchener Tierärztliche Wochenschrift. 114 (7–8): 277–282. PMID\\xa011505801.\\n\\n^ \"Do fish feel pain? Not as humans do, study suggests\". ScienceDaily. 8 August 2013. Retrieved 2 August 2017.\\n\\n^ Lund, V; Mejdell, CM; Röcklinsberg, H; Anthony, R; Håstein, T (4 May 2007). \"Expanding the moral circle: farmed fish as objects of moral concern\". Diseases of Aquatic Organisms. 75 (2): 109–118. doi:10.3354/dao075109. PMID\\xa017578250.\\n\\n^ Davie, PS; Kopf, RK (August 2006). \"Physiology, behaviour and welfare of fish during recreational fishing and after release\". New Zealand Veterinary Journal. 54 (4): 161–172. doi:10.1080/00480169.2006.36690. PMID\\xa016915337. S2CID\\xa01636511.\\n\\n^ \"Anglers\\' catch-and-release method stops fish feeding properly, study finds\". The Independent. 9 October 2018. Retrieved 10 October 2018.\\n\\n^ \"Facts | Seaspiracy Website\". SEASPIRACY. Retrieved 12 March 2022.\\n\\n^ a b Environment, U. N. (21 October 2021). \"Drowning in Plastics – Marine Litter and Plastic Waste Vital Graphics\". UNEP - UN Environment Programme. Retrieved 23 March 2022.\\n\\n^ \"International Collective in Support of Fishworkers\". ICSF. 2 March 2012. Retrieved 1 July 2012.\\n\\n^ Regensteinn J.M. and Regensteinn C.E. (2000) \"Religious food laws and the seafood industry\" In: R.E. Martin, E.P. Carter, G.J. Flick Jr and L.M. Davis (Eds) (2000) Marine and freshwater products handbook, CRC Press. ISBN\\xa0978-1-56676-889-4.\\n\\n^ A Misunderstood Analogy for Evangelism Bible Analysis Article\\n\\n^ American Bible Society Article Archived 5 September 2008 at the Wayback Machine American Bible Society\\n\\n^ About Pisces the Fish The Astrology Cafe Monitor\\n\\n^ Peter: From Fisherman to Fisher of Men Profiles of Faith Archived 6 March 2016 at the Wayback Machine\\n\\n\\nSources[edit]\\n\\xa0This article incorporates text from a free content work.  Licensed under Cc BY-SA 3.0 IGO License statement/permission. Text taken from Drowning in Plastics – Marine Litter and Plastic Waste Vital Graphics,   United Nations Environment Programme. To learn how to add open license text to Wikipedia articles, please see this how-to page. For information on reusing text from Wikipedia, please see the terms of use.\\n\\nFurther reading[edit]\\nSchultz, Ken (1999). Fishing Encyclopedia: Worldwide Angling Guide. John Wiley & Sons. ISBN\\xa0978-0-02-862057-2.\\nGabriel, Otto; Andres von Brandt (2005). Fish catching methods of the world. Blackwell. ISBN\\xa0978-0-85238-280-6.\\nSahrhage, Dietrich; Johannes Lundbeck (1992). A History of Fishing. Springer-Verlag. ISBN\\xa0978-0-387-55332-0.\\nExternal links[edit]\\n.mw-parser-output .side-box{margin:4px 0;box-sizing:border-box;border:1px solid #aaa;font-size:88%;line-height:1.25em;background-color:#f9f9f9}.mw-parser-output .side-box-abovebelow,.mw-parser-output .side-box-text{padding:0.25em 0.9em}.mw-parser-output .side-box-image{padding:2px 0 2px 0.9em;text-align:center}.mw-parser-output .side-box-imageright{padding:2px 0.9em 2px 0;text-align:center}@media(min-width:500px){.mw-parser-output .side-box-flex{display:flex;align-items:center}.mw-parser-output .side-box-text{flex:1}}@media(min-width:720px){.mw-parser-output .side-box{width:238px}.mw-parser-output .side-box-right{clear:right;float:right;margin-left:1em}.mw-parser-output .side-box-left{margin-right:1em}}.mw-parser-output .sister-box .side-box-abovebelow{padding:0.75em 0;text-align:center}.mw-parser-output .sister-box .side-box-abovebelow>b{display:block}.mw-parser-output .sister-box .side-box-text>ul{border-top:1px solid #aaa;padding:0.75em 0;width:217px;margin:0 auto}.mw-parser-output .sister-box .side-box-text>ul>li{min-height:31px}.mw-parser-output .sister-logo{display:inline-block;width:31px;line-height:31px;vertical-align:middle;text-align:center}.mw-parser-output .sister-link{display:inline-block;margin-left:4px;width:182px;vertical-align:middle}\\n\\nFishing  at Wikipedia\\'s sister projects\\n\\nDefinitions from WiktionaryMedia from CommonsNews from WikinewsQuotations from WikiquoteTexts from WikisourceTextbooks from WikibooksTravel information from WikivoyageResources from Wikiversity\\n\\n\"The sea without fish, a reality!\". Pauly, Daniel (2009). University of British Columbia. Archived from the original on 7 January 2013..\\nMap of world ocean fishing activity, 2016\\n.mw-parser-output .navbox{box-sizing:border-box;border:1px solid #a2a9b1;width:100%;clear:both;font-size:88%;text-align:center;padding:1px;margin:1em auto 0}.mw-parser-output .navbox .navbox{margin-top:0}.mw-parser-output .navbox+.navbox,.mw-parser-output .navbox+.navbox-styles+.navbox{margin-top:-1px}.mw-parser-output .navbox-inner,.mw-parser-output .navbox-subgroup{width:100%}.mw-parser-output .navbox-group,.mw-parser-output .navbox-title,.mw-parser-output .navbox-abovebelow{padding:0.25em 1em;line-height:1.5em;text-align:center}.mw-parser-output .navbox-group{white-space:nowrap;text-align:right}.mw-parser-output .navbox,.mw-parser-output .navbox-subgroup{background-color:#fdfdfd}.mw-parser-output .navbox-list{line-height:1.5em;border-color:#fdfdfd}.mw-parser-output .navbox-list-with-group{text-align:left;border-left-width:2px;border-left-style:solid}.mw-parser-output tr+tr>.navbox-abovebelow,.mw-parser-output tr+tr>.navbox-group,.mw-parser-output tr+tr>.navbox-image,.mw-parser-output tr+tr>.navbox-list{border-top:2px solid #fdfdfd}.mw-parser-output .navbox-title{background-color:#ccf}.mw-parser-output .navbox-abovebelow,.mw-parser-output .navbox-group,.mw-parser-output .navbox-subgroup .navbox-title{background-color:#ddf}.mw-parser-output .navbox-subgroup .navbox-group,.mw-parser-output .navbox-subgroup .navbox-abovebelow{background-color:#e6e6ff}.mw-parser-output .navbox-even{background-color:#f7f7f7}.mw-parser-output .navbox-odd{background-color:transparent}.mw-parser-output .navbox .hlist td dl,.mw-parser-output .navbox .hlist td ol,.mw-parser-output .navbox .hlist td ul,.mw-parser-output .navbox td.hlist dl,.mw-parser-output .navbox td.hlist ol,.mw-parser-output .navbox td.hlist ul{padding:0.125em 0}.mw-parser-output .navbox .navbar{display:block;font-size:100%}.mw-parser-output .navbox-title .navbar{float:left;text-align:left;margin-right:0.5em}.mw-parser-output .navbar{display:inline;font-size:88%;font-weight:normal}.mw-parser-output .navbar-collapse{float:left;text-align:left}.mw-parser-output .navbar-boxtext{word-spacing:0}.mw-parser-output .navbar ul{display:inline-block;white-space:nowrap;line-height:inherit}.mw-parser-output .navbar-brackets::before{margin-right:-0.125em;content:\"[ \"}.mw-parser-output .navbar-brackets::after{margin-left:-0.125em;content:\" ]\"}.mw-parser-output .navbar li{word-spacing:-0.125em}.mw-parser-output .navbar a>span,.mw-parser-output .navbar a>abbr{text-decoration:inherit}.mw-parser-output .navbar-mini abbr{font-variant:small-caps;border-bottom:none;text-decoration:none;cursor:inherit}.mw-parser-output .navbar-ct-full{font-size:114%;margin:0 7em}.mw-parser-output .navbar-ct-mini{font-size:114%;margin:0 4em}vteFisheries and fishing topic areasFisheries\\nAquaculture\\nDiversity of fish\\nFish diseases and parasites\\nFish farming\\nFisheries management\\nFisheries science\\nIndividual fishing quota\\nIllegal, unreported and unregulated fishing\\nSustainable fishery\\nOverfishing\\nWild fisheries\\nFishing\\nArtisanal fishing\\nFisherman\\nFishing vessel\\nHistory of fishing\\nIndustry\\nList of harvested aquatic animals by weight\\nBy country\\nCommercial fishing\\nMarketing\\nMarkets\\nProcessing\\nProducts\\nSeafood\\nRecreation\\nAngling\\nBig-game fishing\\nCatch and release\\nFishing tournaments\\nFly fishing\\nTechniques\\nFish trap\\nFishfinder\\nFishing net\\nGathering seafood by hand\\nHandline fishing\\nSpearfishing\\nTrawling\\nTrolling\\nTackle\\nArtificial flies\\nBait\\nBite indicators\\nHook\\nLine\\nLures\\nRod\\nSinker\\nLocations\\nFish ponds\\nFishing banks\\nFishing villages\\nMarine habitats\\n\\nGlossary\\nIndex\\n Outline\\n Category\\n\\nvteWater sports and activitiesActivities in water\\nAquajogging\\nDiving\\nsynchronized\\nScuba diving\\nSnorkeling\\nSwimming\\nsynchronized\\nWater aerobics\\nActivities on water\\nBoating\\nBodyboarding\\nBodysurfing\\nCable skiing\\nCanoeing\\nFishing\\nKayaking\\nKiteboarding\\nKiteboating\\nKneeboarding\\nPaddleboarding\\nstandup\\nParasailing\\nRafting\\nRiverboarding\\nRowing\\nSailing\\nSkimboarding\\nSkurfing\\nStone skipping\\nSurfing\\nTubing\\nWakeboarding\\nWakeskating\\nWakesurfing\\nWater skiing\\nbarefoot\\nWindsurfing\\nYachting\\nTeam sports\\nCanoe polo\\nDinghy racing\\nDragon boat racing\\nOutrigger canoe racing\\nSynchronized diving\\nSynchronized swimming\\nWaboba\\nWater basketball\\nWater polo\\nWater volleyball\\nCompetitions\\nBoat racing\\nModern pentathlon\\nSailing races\\nTriathlon\\nYacht racing\\n\\n Category\\n Commons\\n\\nAuthority control National libraries\\nFrance (data)\\nGermany\\nIsrael\\nUnited States\\nCzech Republic\\n2\\nOther\\nHistorical Dictionary of Switzerland\\nNational Archives (US)\\n\\n\\n\\n\\n\\nRetrieved from \"https://en.wikipedia.org/w/index.php?title=Fishing&oldid=1113942214\"\\nCategories: FishingSurvival skillsHidden categories: All articles with dead external linksArticles with dead external links from October 2017Articles with permanently dead external linksArticles with dead external links from December 2020Webarchive template wayback linksArticles with short descriptionShort description matches WikidataUse dmy dates from December 2020Wikipedia articles needing clarification from November 2019Free-content attributionFree content from United Nations Environment ProgrammePages using Sister project links with wikidata namespace mismatchPages using Sister project links with hidden wikidataPages using Sister project links with default searchArticles with BNF identifiersArticles with GND identifiersArticles with J9U identifiersArticles with LCCN identifiersArticles with NKC identifiersArticles with HDS identifiersArticles with NARA identifiersArticles with multiple identifiers\\n\\n\\n\\nNavigation menu\\n\\n\\n\\nPersonal tools\\n\\n\\nNot logged inTalkContributionsCreate accountLog in\\n\\n\\n\\n\\n\\nNamespaces\\n\\n\\nArticleTalk\\n\\n\\n\\n\\n\\nEnglish\\n\\n\\n\\n\\n\\n\\n\\n\\n\\nViews\\n\\n\\nReadEditView history\\n\\n\\n\\n\\n\\nMore\\n\\n\\n\\n\\n\\n\\n\\n\\nSearch\\n\\n\\n\\n\\n\\n\\n\\n\\n\\n\\n\\n\\n\\n\\n\\n\\n\\n\\n\\nNavigation\\n\\n\\nMain pageContentsCurrent eventsRandom articleAbout WikipediaContact usDonate\\n\\n\\n\\n\\nContribute\\n\\n\\nHelpLearn to editCommunity portalRecent changesUpload file\\n\\n\\n\\n\\nTools\\n\\n\\nWhat links hereRelated changesUpload fileSpecial pagesPermanent linkPage informationCite this pageWikidata item\\n\\n\\n\\n\\nPrint/export\\n\\n\\nDownload as PDFPrintable version\\n\\n\\n\\n\\nIn other projects\\n\\n\\nWikimedia CommonsWikiquoteWikisourceWikivoyage\\n\\n\\n\\n\\nLanguages\\n\\n\\nAfrikaansÆngliscالعربيةAragonésAsturianuAvañe\\'ẽAzərbaycancaتۆرکجهবাংলাBanjarBân-lâm-gúБългарскиBosanskiBrezhonegCatalàČeštinaChiShonaCymraegDeutschEestiΕλληνικάEspañolEsperantoEuskaraفارسیFrançaisGaeilgeGàidhligGalegoગુજરાતી한국어Հայերենहिन्दीHrvatskiIdoIgboBahasa IndonesiaÍslenskaItalianoעבריתJawaKabɩyɛಕನ್ನಡҚазақшаIkinyarwandaKiswahiliKriyòl gwiyannenLatinaLatviešuLëtzebuergeschLietuviųLi NihaLimburgsMagyarМакедонскиMalagasyമലയാളംमराठीBahasa MelayuNāhuatlNederlandsNedersaksiesनेपाली日本語NapulitanoNorsk bokmålNorsk nynorskNouormandOccitanOʻzbekcha/ўзбекчаپنجابیPicardPlattdüütschPortuguêsRomânăRuna SimiРусскийСаха тылаSicilianuSimple EnglishSlovenčinaSlovenščinaکوردیСрпски / srpskiSrpskohrvatski / српскохрватскиSuomiSvenskaதமிழ்Татарча/tatarçaไทยThuɔŋjäŋTürkçeУкраїнськаاردوVènetoVepsän kel’Tiếng ViệtWalonWinaray吴语粵語中文\\nEdit links\\n\\n\\n\\n\\n\\n\\n This page was last edited on 4 October 2022, at 00:22\\xa0(UTC).\\nText is available under the Creative Commons Attribution-ShareAlike License 3.0;\\nadditional terms may apply.  By using this site, you agree to the Terms of Use and Privacy Policy. Wikipedia® is a registered trademark of the Wikimedia Foundation, Inc., a non-profit organization.\\n\\n\\nPrivacy policy\\nAbout Wikipedia\\nDisclaimers\\nContact Wikipedia\\nMobile view\\nDevelopers\\nStatistics\\nCookie statement\\n\\n\\n\\n\\n\\n\\n(RLQ=window.RLQ||[]).push(function(){mw.config.set({\"wgPageParseReport\":{\"limitreport\":{\"cputime\":\"0.605\",\"walltime\":\"0.827\",\"ppvisitednodes\":{\"value\":3967,\"limit\":1000000},\"postexpandincludesize\":{\"value\":111232,\"limit\":2097152},\"templateargumentsize\":{\"value\":4871,\"limit\":2097152},\"expansiondepth\":{\"value\":17,\"limit\":100},\"expensivefunctioncount\":{\"value\":36,\"limit\":500},\"unstrip-depth\":{\"value\":1,\"limit\":20},\"unstrip-size\":{\"value\":130066,\"limit\":5000000},\"entityaccesscount\":{\"value\":1,\"limit\":400},\"timingprofile\":[\"100.00%  646.724      1 -total\",\" 37.60%  243.138      2 Template:Reflist\",\" 18.85%  121.892     20 Template:Cite_web\",\" 10.57%   68.377      1 Template:Sister_project_links\",\"  7.48%   48.396      2 Template:Navbox\",\"  7.12%   46.073      1 Template:Fisheries_and_fishing\",\"  6.83%   44.143      1 Template:Short_description\",\"  5.79%   37.435      7 Template:Cite_journal\",\"  4.52%   29.231      3 Template:Fix\",\"  4.15%   26.858      6 Template:Convert\"]},\"scribunto\":{\"limitreport-timeusage\":{\"value\":\"0.319\",\"limit\":\"10.000\"},\"limitreport-memusage\":{\"value\":10502771,\"limit\":52428800}},\"cachereport\":{\"origin\":\"mw1391\",\"timestamp\":\"20221004134904\",\"ttl\":1814400,\"transientcontent\":false}}});});\\n{\"@context\":\"https:\\\\/\\\\/schema.org\",\"@type\":\"Article\",\"name\":\"Fishing\",\"url\":\"https:\\\\/\\\\/en.wikipedia.org\\\\/wiki\\\\/Fishing\",\"sameAs\":\"http:\\\\/\\\\/www.wikidata.org\\\\/entity\\\\/Q14373\",\"mainEntity\":\"http:\\\\/\\\\/www.wikidata.org\\\\/entity\\\\/Q14373\",\"author\":{\"@type\":\"Organization\",\"name\":\"Contributors to Wikimedia projects\"},\"publisher\":{\"@type\":\"Organization\",\"name\":\"Wikimedia Foundation, Inc.\",\"logo\":{\"@type\":\"ImageObject\",\"url\":\"https:\\\\/\\\\/www.wikimedia.org\\\\/static\\\\/images\\\\/wmf-hor-googpub.png\"}},\"datePublished\":\"2002-02-07T17:29:50Z\",\"dateModified\":\"2022-10-04T00:22:54Z\",\"image\":\"https:\\\\/\\\\/upload.wikimedia.org\\\\/wikipedia\\\\/commons\\\\/b\\\\/b9\\\\/Stilts_fishermen_Sri_Lanka_02.jpg\",\"headline\":\"activity of trying to catch fish\"}{\"@context\":\"https:\\\\/\\\\/schema.org\",\"@type\":\"Article\",\"name\":\"Fishing\",\"url\":\"https:\\\\/\\\\/en.wikipedia.org\\\\/wiki\\\\/Fishing\",\"sameAs\":\"http:\\\\/\\\\/www.wikidata.org\\\\/entity\\\\/Q14373\",\"mainEntity\":\"http:\\\\/\\\\/www.wikidata.org\\\\/entity\\\\/Q14373\",\"author\":{\"@type\":\"Organization\",\"name\":\"Contributors to Wikimedia projects\"},\"publisher\":{\"@type\":\"Organization\",\"name\":\"Wikimedia Foundation, Inc.\",\"logo\":{\"@type\":\"ImageObject\",\"url\":\"https:\\\\/\\\\/www.wikimedia.org\\\\/static\\\\/images\\\\/wmf-hor-googpub.png\"}},\"datePublished\":\"2002-02-07T17:29:50Z\",\"dateModified\":\"2022-10-04T00:22:54Z\",\"image\":\"https:\\\\/\\\\/upload.wikimedia.org\\\\/wikipedia\\\\/commons\\\\/b\\\\/b9\\\\/Stilts_fishermen_Sri_Lanka_02.jpg\",\"headline\":\"activity of trying to catch fish\"}\\n(RLQ=window.RLQ||[]).push(function(){mw.config.set({\"wgBackendResponseTime\":129,\"wgHostname\":\"mw1354\"});});\\n\\n'}\n",
            "a set of 1 links are found.\n"
          ]
        },
        {
          "output_type": "stream",
          "name": "stderr",
          "text": [
            "100%|██████████| 1/1 [00:01<00:00,  1.33s/it]"
          ]
        },
        {
          "output_type": "stream",
          "name": "stdout",
          "text": [
            "a size of 2 content dictionary is built.\n"
          ]
        },
        {
          "output_type": "stream",
          "name": "stderr",
          "text": [
            "\n"
          ]
        }
      ]
    },
    {
      "cell_type": "code",
      "source": [
        "driveFolderDirectory = '/content/drive/MyDrive/Colab Notebooks/'\n",
        "savedFileName = 'wikiContents.csv'\n",
        "pathToSave = driveFolderDirectory + savedFileName\n",
        "\n",
        "with open(pathToSave, 'w', newline='') as csvfile:\n",
        "  fieldnames = ['idx','wikiTitle', 'wikiContents']\n",
        "  writer = csv.DictWriter(csvfile, fieldnames=fieldnames)\n",
        "  writer.writeheader()\n",
        "  for i,wikiContentKey in enumerate(pageDict.keys()):\n",
        "    writer.writerow({'idx': i, 'wikiTitle': wikiContentKey,'wikiContents': pageDict[wikiContentKey]})"
      ],
      "metadata": {
        "id": "wYe_dQLGX9GT"
      },
      "execution_count": 88,
      "outputs": []
    },
    {
      "cell_type": "code",
      "source": [
        "# data_fishing"
      ],
      "metadata": {
        "id": "Y4S2zF-LZNy1"
      },
      "execution_count": 90,
      "outputs": []
    },
    {
      "cell_type": "markdown",
      "source": [
        "## Task 2 Data Processing"
      ],
      "metadata": {
        "id": "dYbi86YFag6M"
      }
    },
    {
      "cell_type": "code",
      "source": [
        "# install spacy and related package(s)\n",
        "\n",
        "# !pip install -U pip setuptools wheel\n",
        "# !pip install -U spacy\n",
        "# !python -m spacy download en_core_web_sm"
      ],
      "metadata": {
        "id": "pTJOyNozOpvk"
      },
      "execution_count": 91,
      "outputs": []
    },
    {
      "cell_type": "code",
      "source": [
        "doc = data_fishing"
      ],
      "metadata": {
        "id": "_43vQvdYL_eW"
      },
      "execution_count": 92,
      "outputs": []
    },
    {
      "cell_type": "code",
      "source": [
        "import nltk\n",
        "from nltk.stem import WordNetLemmatizer  \n",
        "import string\n",
        "import spacy\n",
        "nlp = spacy.load('en_core_web_sm')\n",
        "\n",
        "def preprocess(wikiTextDict):\n",
        "  # Input: a wiki text dictionary with keys are titles and values are the corresponding texts.\n",
        "  # Output: a wiki text dictionary with keys are the titles and the values are the preprocessed texts \n",
        "  # (sentences - tokens).\n",
        "  doc = wikiTextDict.values\n",
        "  # sub-task 1: remove all the references texts \"[...]\"\n",
        "  for value in wikiTextDict:\n",
        "    re.sub(r'\\((?:[\\w \\.&]+\\, )+[0-9]{4}\\)', '', value)\n",
        "    # sub-task 2: segment all the sentences in the wiki texts.\n",
        "    nlp = spacy.load(\"en_core_web_sm\")\n",
        "    lemmatizer = nlp.get_pipe(\"lemmatizer\")\n",
        "    value = nlp(value)\n",
        "    value = [sent.text for sent in value.sents]\n",
        "    # sub-task 3: tokenize the sentences from sub-task 2.\n",
        "    value = [token for token in value]\n",
        "    # sub-task 4: lemmatize the tokens from sub-task 3.\n",
        "    # value = [[token.text,token.lemma_] for token in value]\n",
        "    # value = [token.lemma_ for token in value]\n",
        "    # sub-task 5: lower-case the tokens from sub-task 3/4.\n",
        "    value = [token.lower() for token in value]\n",
        "\n",
        "  # You don't need to follow the order of the sub-tasks.\n",
        "\n",
        "  pass\n",
        "\n",
        "# Preprocess your data here.\n",
        "preprocess(doc)"
      ],
      "metadata": {
        "id": "lQwCiKlwacXG"
      },
      "execution_count": 118,
      "outputs": []
    },
    {
      "cell_type": "markdown",
      "source": [
        "## Task 3 Word Types"
      ],
      "metadata": {
        "id": "kBN4kjURawPd"
      }
    },
    {
      "cell_type": "code",
      "source": [
        "pip install nltk"
      ],
      "metadata": {
        "colab": {
          "base_uri": "https://localhost:8080/"
        },
        "id": "1BA9eVcyMXa9",
        "outputId": "1776f3ba-6868-4592-b531-2c1aaa8eeb48"
      },
      "execution_count": 121,
      "outputs": [
        {
          "output_type": "stream",
          "name": "stdout",
          "text": [
            "Looking in indexes: https://pypi.org/simple, https://us-python.pkg.dev/colab-wheels/public/simple/\n",
            "Requirement already satisfied: nltk in /usr/local/lib/python3.7/dist-packages (3.7)\n",
            "Requirement already satisfied: click in /usr/local/lib/python3.7/dist-packages (from nltk) (7.1.2)\n",
            "Requirement already satisfied: regex>=2021.8.3 in /usr/local/lib/python3.7/dist-packages (from nltk) (2022.6.2)\n",
            "Requirement already satisfied: joblib in /usr/local/lib/python3.7/dist-packages (from nltk) (1.2.0)\n",
            "Requirement already satisfied: tqdm in /usr/local/lib/python3.7/dist-packages (from nltk) (4.64.1)\n",
            "\u001b[33mWARNING: Running pip as the 'root' user can result in broken permissions and conflicting behaviour with the system package manager. It is recommended to use a virtual environment instead: https://pip.pypa.io/warnings/venv\u001b[0m\u001b[33m\n",
            "\u001b[0m"
          ]
        }
      ]
    },
    {
      "cell_type": "code",
      "source": [
        "import nltk\n",
        "from nltk.stem import WordNetLemmatizer  \n",
        "def computeFreq(wikiTextDict):\n",
        "\n",
        "  # Input: a wiki text dictionary with keys are titles and values are the preprocessed corresponding texts.\n",
        "  # Output: a dictionary with keys are the word types, and the values are the appearance counts of the word types\n",
        "  word_frequencies = nltk.FreqDist(wikiTextDict)\n",
        "  sorted_counts = sorted(word_frequencies.items() , key = lambda x: x[1] ,reverse = True)\n",
        "  return sorted_counts\n",
        "  pass\n",
        "\n",
        "  # Compute the frequency dictionary here.\n",
        "articles = [article for article in data_fishing if article != '']\n",
        "results = [computeFreq(article) for article in articles]\n",
        "results"
      ],
      "metadata": {
        "id": "LkKXlMh1a54a",
        "colab": {
          "base_uri": "https://localhost:8080/"
        },
        "outputId": "9c6fe441-28d1-4cd4-f788-0a8279012bdc"
      },
      "execution_count": 117,
      "outputs": [
        {
          "output_type": "execute_result",
          "data": {
            "text/plain": [
              "[[('i', 7),\n",
              "  ('t', 4),\n",
              "  ('e', 3),\n",
              "  ('<', 2),\n",
              "  ('l', 2),\n",
              "  ('>', 2),\n",
              "  (' ', 2),\n",
              "  ('F', 1),\n",
              "  ('s', 1),\n",
              "  ('h', 1),\n",
              "  ('n', 1),\n",
              "  ('g', 1),\n",
              "  ('-', 1),\n",
              "  ('W', 1),\n",
              "  ('k', 1),\n",
              "  ('p', 1),\n",
              "  ('d', 1),\n",
              "  ('a', 1),\n",
              "  ('/', 1)],\n",
              " [('i', 5),\n",
              "  ('t', 4),\n",
              "  ('e', 3),\n",
              "  ('<', 2),\n",
              "  ('l', 2),\n",
              "  ('>', 2),\n",
              "  ('M', 1),\n",
              "  ('d', 1),\n",
              "  ('a', 1),\n",
              "  ('W', 1),\n",
              "  ('k', 1),\n",
              "  ('/', 1)]]"
            ]
          },
          "metadata": {},
          "execution_count": 117
        }
      ]
    },
    {
      "cell_type": "markdown",
      "source": [
        "## Task 4 Top 20 Words"
      ],
      "metadata": {
        "id": "X-jaX45yJ8C_"
      }
    },
    {
      "cell_type": "code",
      "source": [
        "import collections\n",
        "from collections import Counter"
      ],
      "metadata": {
        "id": "_MdM5BI2J-eN"
      },
      "execution_count": 97,
      "outputs": []
    },
    {
      "cell_type": "code",
      "source": [
        "# results.most_common(20)"
      ],
      "metadata": {
        "id": "-XXfJJM8qI5M"
      },
      "execution_count": 98,
      "outputs": []
    },
    {
      "cell_type": "markdown",
      "source": [
        "## Task 5 Word Cloud"
      ],
      "metadata": {
        "id": "YD_2m9mXqY-u"
      }
    },
    {
      "cell_type": "code",
      "source": [
        "from wordcloud import WordCloud\n",
        "import matplotlib.pyplot as plt"
      ],
      "metadata": {
        "id": "fee3zz-GqkhJ"
      },
      "execution_count": 99,
      "outputs": []
    },
    {
      "cell_type": "code",
      "source": [
        "!pip install wordcloud"
      ],
      "metadata": {
        "colab": {
          "base_uri": "https://localhost:8080/"
        },
        "id": "pJ8_eQSxr1yA",
        "outputId": "84e17312-3d1e-4753-d2f2-d9c2c2ea2b98"
      },
      "execution_count": 100,
      "outputs": [
        {
          "output_type": "stream",
          "name": "stdout",
          "text": [
            "Looking in indexes: https://pypi.org/simple, https://us-python.pkg.dev/colab-wheels/public/simple/\n",
            "Requirement already satisfied: wordcloud in /usr/local/lib/python3.7/dist-packages (1.8.2.2)\n",
            "Requirement already satisfied: matplotlib in /usr/local/lib/python3.7/dist-packages (from wordcloud) (3.2.2)\n",
            "Requirement already satisfied: numpy>=1.6.1 in /usr/local/lib/python3.7/dist-packages (from wordcloud) (1.21.6)\n",
            "Requirement already satisfied: pillow in /usr/local/lib/python3.7/dist-packages (from wordcloud) (7.1.2)\n",
            "Requirement already satisfied: kiwisolver>=1.0.1 in /usr/local/lib/python3.7/dist-packages (from matplotlib->wordcloud) (1.4.4)\n",
            "Requirement already satisfied: cycler>=0.10 in /usr/local/lib/python3.7/dist-packages (from matplotlib->wordcloud) (0.11.0)\n",
            "Requirement already satisfied: python-dateutil>=2.1 in /usr/local/lib/python3.7/dist-packages (from matplotlib->wordcloud) (2.8.2)\n",
            "Requirement already satisfied: pyparsing!=2.0.4,!=2.1.2,!=2.1.6,>=2.0.1 in /usr/local/lib/python3.7/dist-packages (from matplotlib->wordcloud) (3.0.9)\n",
            "Requirement already satisfied: typing-extensions in /usr/local/lib/python3.7/dist-packages (from kiwisolver>=1.0.1->matplotlib->wordcloud) (4.1.1)\n",
            "Requirement already satisfied: six>=1.5 in /usr/local/lib/python3.7/dist-packages (from python-dateutil>=2.1->matplotlib->wordcloud) (1.15.0)\n",
            "\u001b[33mWARNING: Running pip as the 'root' user can result in broken permissions and conflicting behaviour with the system package manager. It is recommended to use a virtual environment instead: https://pip.pypa.io/warnings/venv\u001b[0m\u001b[33m\n",
            "\u001b[0m"
          ]
        }
      ]
    },
    {
      "cell_type": "code",
      "source": [
        "from wordcloud import WordCloud, STOPWORDS\n",
        "import matplotlib.pyplot as plt\n",
        "\n",
        "def plotWordCloud(image):\n",
        "  # Input: word cloud image\n",
        "  # Output: (display the cloud image in the output)\n",
        "  \n",
        "  pass\n",
        "\n",
        "def generateWordCloud(text):\n",
        "  # Input: all texts in the scraped wiki data.\n",
        "  # Output: word cloud image.\n",
        "  wordcloud = WordCloud(background_color=\"white\",width=1000, height=860, margin=2).generate(text)\n",
        "  plt.imshow(wordcloud)\n",
        "  plt.axis(\"off\")\n",
        "  plt.show()\n",
        "  pass\n",
        "\n",
        "# Draw your word cloud here\n"
      ],
      "metadata": {
        "id": "tjApnt9xr7yF"
      },
      "execution_count": 101,
      "outputs": []
    },
    {
      "cell_type": "markdown",
      "source": [
        "## Task 6 Tweet Revisited"
      ],
      "metadata": {
        "id": "QUIoMCaYqlZB"
      }
    },
    {
      "cell_type": "code",
      "source": [
        "def loadTweetTextFromCSV(csvPath):\n",
        "  tweetDict = {}\n",
        "  with open(csvPath, newline='') as csvfile:\n",
        "    reader = csv.DictReader(csvfile)\n",
        "    for row in reader:\n",
        "      tweetDict[int(row['idx'])] = row['tweetText']\n",
        "  return tweetDict\n",
        "\n",
        "# processedTweetData = preprocess(tweetDict) # here we assume you have implemented the preprocess function in task 2.\n",
        "fish = loadTweetTextFromCSV('/content/drive/My Drive/tweets_fish.csv')"
      ],
      "metadata": {
        "id": "u9pX6pSwquh5"
      },
      "execution_count": 102,
      "outputs": []
    },
    {
      "cell_type": "markdown",
      "source": [
        "## Task 7"
      ],
      "metadata": {
        "id": "EAI_KKaBqlb8"
      }
    },
    {
      "cell_type": "code",
      "source": [
        "def computeOOVWordTypes(tweetVocabDict, wikiVocabDict):\n",
        "\n",
        "  # Input: a dictionary of tweet data vocabulary, a dictionary of wiki data vocabulary.\n",
        "  # Output: the ratio of word types in your tweets that are out-of-vocabulary w.r.t. wiki vocabulary\n",
        "  # v.s. total number of word types in your tweet data.\n",
        "\n",
        "  # The ratio should be in percentage.\n",
        "\n",
        "  pass\n",
        "\n",
        "# Print your ratio here."
      ],
      "metadata": {
        "id": "L1TinT6ft0lJ"
      },
      "execution_count": 103,
      "outputs": []
    },
    {
      "cell_type": "markdown",
      "source": [
        "## Task  8"
      ],
      "metadata": {
        "id": "PRcqlVl-qlfI"
      }
    },
    {
      "cell_type": "code",
      "source": [
        "def computeOOVWordTokens(tweetVocabDict, wikiVocabDict):\n",
        "\n",
        "  # Input: a dictionary of tweet data vocabulary, a dictionary of wiki data vocabulary. (E.g. computed from task 3)\n",
        "  # Output: the ratio of word tokens in your tweets that are out-of-vocabulary w.r.t. wiki vocabulary\n",
        "  # v.s. total number of word tokens in your tweet data.\n",
        "\n",
        "  # Remeber this time we count the number of tokens instead of types. The ratio should be in percentage.\n",
        "  \n",
        "  pass\n",
        "\n",
        "# Print your ratio here."
      ],
      "metadata": {
        "id": "3OyAp3BftcSB"
      },
      "execution_count": 104,
      "outputs": []
    },
    {
      "cell_type": "markdown",
      "source": [
        "## Task 9"
      ],
      "metadata": {
        "id": "rlPQ5n_jAdoM"
      }
    },
    {
      "cell_type": "code",
      "source": [],
      "metadata": {
        "id": "Xlg-SmO8AubO"
      },
      "execution_count": null,
      "outputs": []
    },
    {
      "cell_type": "markdown",
      "source": [
        "## Task 10"
      ],
      "metadata": {
        "id": "2khNuy-1Auy_"
      }
    },
    {
      "cell_type": "code",
      "source": [],
      "metadata": {
        "id": "MmU98i2dAvg3"
      },
      "execution_count": null,
      "outputs": []
    },
    {
      "cell_type": "markdown",
      "source": [
        "## Task 11 News Scraping"
      ],
      "metadata": {
        "id": "AVvG9ZxqAxTg"
      }
    },
    {
      "cell_type": "code",
      "source": [
        "#install newspaper\n",
        "!pip install newspaper3k"
      ],
      "metadata": {
        "colab": {
          "base_uri": "https://localhost:8080/"
        },
        "id": "gmBEGZ1HDa_p",
        "outputId": "0f46cc05-274a-446b-ac24-9839ec0d3ade"
      },
      "execution_count": 106,
      "outputs": [
        {
          "output_type": "stream",
          "name": "stdout",
          "text": [
            "Looking in indexes: https://pypi.org/simple, https://us-python.pkg.dev/colab-wheels/public/simple/\n",
            "Collecting newspaper3k\n",
            "  Downloading newspaper3k-0.2.8-py3-none-any.whl (211 kB)\n",
            "\u001b[2K     \u001b[90m━━━━━━━━━━━━━━━━━━━━━━━━━━━━━━━━━━━━━━━\u001b[0m \u001b[32m211.1/211.1 kB\u001b[0m \u001b[31m4.0 MB/s\u001b[0m eta \u001b[36m0:00:00\u001b[0m\n",
            "\u001b[?25hRequirement already satisfied: lxml>=3.6.0 in /usr/local/lib/python3.7/dist-packages (from newspaper3k) (4.9.1)\n",
            "Collecting feedfinder2>=0.0.4\n",
            "  Downloading feedfinder2-0.0.4.tar.gz (3.3 kB)\n",
            "  Preparing metadata (setup.py) ... \u001b[?25l\u001b[?25hdone\n",
            "Requirement already satisfied: nltk>=3.2.1 in /usr/local/lib/python3.7/dist-packages (from newspaper3k) (3.7)\n",
            "Requirement already satisfied: Pillow>=3.3.0 in /usr/local/lib/python3.7/dist-packages (from newspaper3k) (7.1.2)\n",
            "Collecting tinysegmenter==0.3\n",
            "  Downloading tinysegmenter-0.3.tar.gz (16 kB)\n",
            "  Preparing metadata (setup.py) ... \u001b[?25l\u001b[?25hdone\n",
            "Requirement already satisfied: PyYAML>=3.11 in /usr/local/lib/python3.7/dist-packages (from newspaper3k) (6.0)\n",
            "Requirement already satisfied: beautifulsoup4>=4.4.1 in /usr/local/lib/python3.7/dist-packages (from newspaper3k) (4.6.3)\n",
            "Collecting tldextract>=2.0.1\n",
            "  Downloading tldextract-3.4.0-py3-none-any.whl (93 kB)\n",
            "\u001b[2K     \u001b[90m━━━━━━━━━━━━━━━━━━━━━━━━━━━━━━━━━━━━━━━━\u001b[0m \u001b[32m93.9/93.9 kB\u001b[0m \u001b[31m10.8 MB/s\u001b[0m eta \u001b[36m0:00:00\u001b[0m\n",
            "\u001b[?25hRequirement already satisfied: python-dateutil>=2.5.3 in /usr/local/lib/python3.7/dist-packages (from newspaper3k) (2.8.2)\n",
            "Collecting feedparser>=5.2.1\n",
            "  Downloading feedparser-6.0.10-py3-none-any.whl (81 kB)\n",
            "\u001b[2K     \u001b[90m━━━━━━━━━━━━━━━━━━━━━━━━━━━━━━━━━━━━━━━━\u001b[0m \u001b[32m81.1/81.1 kB\u001b[0m \u001b[31m9.4 MB/s\u001b[0m eta \u001b[36m0:00:00\u001b[0m\n",
            "\u001b[?25hCollecting jieba3k>=0.35.1\n",
            "  Downloading jieba3k-0.35.1.zip (7.4 MB)\n",
            "\u001b[2K     \u001b[90m━━━━━━━━━━━━━━━━━━━━━━━━━━━━━━━━━━━━━━━━\u001b[0m \u001b[32m7.4/7.4 MB\u001b[0m \u001b[31m58.6 MB/s\u001b[0m eta \u001b[36m0:00:00\u001b[0m\n",
            "\u001b[?25h  Preparing metadata (setup.py) ... \u001b[?25l\u001b[?25hdone\n",
            "Requirement already satisfied: requests>=2.10.0 in /usr/local/lib/python3.7/dist-packages (from newspaper3k) (2.23.0)\n",
            "Collecting cssselect>=0.9.2\n",
            "  Downloading cssselect-1.1.0-py2.py3-none-any.whl (16 kB)\n",
            "Requirement already satisfied: six in /usr/local/lib/python3.7/dist-packages (from feedfinder2>=0.0.4->newspaper3k) (1.15.0)\n",
            "Collecting sgmllib3k\n",
            "  Downloading sgmllib3k-1.0.0.tar.gz (5.8 kB)\n",
            "  Preparing metadata (setup.py) ... \u001b[?25l\u001b[?25hdone\n",
            "Requirement already satisfied: tqdm in /usr/local/lib/python3.7/dist-packages (from nltk>=3.2.1->newspaper3k) (4.64.1)\n",
            "Requirement already satisfied: click in /usr/local/lib/python3.7/dist-packages (from nltk>=3.2.1->newspaper3k) (7.1.2)\n",
            "Requirement already satisfied: joblib in /usr/local/lib/python3.7/dist-packages (from nltk>=3.2.1->newspaper3k) (1.2.0)\n",
            "Requirement already satisfied: regex>=2021.8.3 in /usr/local/lib/python3.7/dist-packages (from nltk>=3.2.1->newspaper3k) (2022.6.2)\n",
            "Requirement already satisfied: certifi>=2017.4.17 in /usr/local/lib/python3.7/dist-packages (from requests>=2.10.0->newspaper3k) (2022.9.24)\n",
            "Requirement already satisfied: urllib3!=1.25.0,!=1.25.1,<1.26,>=1.21.1 in /usr/local/lib/python3.7/dist-packages (from requests>=2.10.0->newspaper3k) (1.24.3)\n",
            "Requirement already satisfied: idna<3,>=2.5 in /usr/local/lib/python3.7/dist-packages (from requests>=2.10.0->newspaper3k) (2.10)\n",
            "Requirement already satisfied: chardet<4,>=3.0.2 in /usr/local/lib/python3.7/dist-packages (from requests>=2.10.0->newspaper3k) (3.0.4)\n",
            "Requirement already satisfied: filelock>=3.0.8 in /usr/local/lib/python3.7/dist-packages (from tldextract>=2.0.1->newspaper3k) (3.8.0)\n",
            "Collecting requests-file>=1.4\n",
            "  Downloading requests_file-1.5.1-py2.py3-none-any.whl (3.7 kB)\n",
            "Building wheels for collected packages: tinysegmenter, feedfinder2, jieba3k, sgmllib3k\n",
            "  Building wheel for tinysegmenter (setup.py) ... \u001b[?25l\u001b[?25hdone\n",
            "  Created wheel for tinysegmenter: filename=tinysegmenter-0.3-py3-none-any.whl size=13540 sha256=09695e7f93f2af2ae39abfa7ead0957c891fb40b2cbfd91095bc57b872c09f87\n",
            "  Stored in directory: /root/.cache/pip/wheels/df/67/41/faca10fa501ca010be41b49d40360c2959e1c4f09bcbfa37fa\n",
            "  Building wheel for feedfinder2 (setup.py) ... \u001b[?25l\u001b[?25hdone\n",
            "  Created wheel for feedfinder2: filename=feedfinder2-0.0.4-py3-none-any.whl size=3341 sha256=2044c5a62590e25d5b92d34c2861e07701e595119a0c7dd5374b4d216a0a956b\n",
            "  Stored in directory: /root/.cache/pip/wheels/7f/d4/8f/6e2ca54744c9d7292d88ddb8d42876bcdab5e6d84a21c10346\n",
            "  Building wheel for jieba3k (setup.py) ... \u001b[?25l\u001b[?25hdone\n",
            "  Created wheel for jieba3k: filename=jieba3k-0.35.1-py3-none-any.whl size=7398381 sha256=3f5ea903307361fb52150bfe8251a31c69f00e854a53a1c94945ce9dae12dd4f\n",
            "  Stored in directory: /root/.cache/pip/wheels/4c/91/46/3c208287b726df325a5979574324878b679116e4baae1af3c3\n",
            "  Building wheel for sgmllib3k (setup.py) ... \u001b[?25l\u001b[?25hdone\n",
            "  Created wheel for sgmllib3k: filename=sgmllib3k-1.0.0-py3-none-any.whl size=6048 sha256=e2cb4cce9af15cff86e110b395e1f1f49243c39b1dd58328ac1419d1730ce8db\n",
            "  Stored in directory: /root/.cache/pip/wheels/73/ad/a4/0dff4a6ef231fc0dfa12ffbac2a36cebfdddfe059f50e019aa\n",
            "Successfully built tinysegmenter feedfinder2 jieba3k sgmllib3k\n",
            "Installing collected packages: tinysegmenter, sgmllib3k, jieba3k, feedparser, cssselect, requests-file, feedfinder2, tldextract, newspaper3k\n",
            "Successfully installed cssselect-1.1.0 feedfinder2-0.0.4 feedparser-6.0.10 jieba3k-0.35.1 newspaper3k-0.2.8 requests-file-1.5.1 sgmllib3k-1.0.0 tinysegmenter-0.3 tldextract-3.4.0\n",
            "\u001b[33mWARNING: Running pip as the 'root' user can result in broken permissions and conflicting behaviour with the system package manager. It is recommended to use a virtual environment instead: https://pip.pypa.io/warnings/venv\u001b[0m\u001b[33m\n",
            "\u001b[0m"
          ]
        }
      ]
    },
    {
      "cell_type": "code",
      "source": [
        "fox_text = []\n",
        "with open('fox_news.jsonl') as f:\n",
        "    for line in f:\n",
        "        js = json.loads(line)\n",
        "        fox_text.append(js['bodytext'])\n",
        "print(\"Number of Fox news artivle: {}\".format(len(fox_text)))"
      ],
      "metadata": {
        "colab": {
          "base_uri": "https://localhost:8080/",
          "height": 242
        },
        "id": "QWcxNvJ-Pxxj",
        "outputId": "c629a6d5-77dc-43af-c65a-d574e1f3ac87"
      },
      "execution_count": 130,
      "outputs": [
        {
          "output_type": "error",
          "ename": "FileNotFoundError",
          "evalue": "ignored",
          "traceback": [
            "\u001b[0;31m---------------------------------------------------------------------------\u001b[0m",
            "\u001b[0;31mFileNotFoundError\u001b[0m                         Traceback (most recent call last)",
            "\u001b[0;32m<ipython-input-130-5d0e812d7a28>\u001b[0m in \u001b[0;36m<module>\u001b[0;34m\u001b[0m\n\u001b[1;32m      1\u001b[0m \u001b[0mfox_text\u001b[0m \u001b[0;34m=\u001b[0m \u001b[0;34m[\u001b[0m\u001b[0;34m]\u001b[0m\u001b[0;34m\u001b[0m\u001b[0;34m\u001b[0m\u001b[0m\n\u001b[0;32m----> 2\u001b[0;31m \u001b[0;32mwith\u001b[0m \u001b[0mopen\u001b[0m\u001b[0;34m(\u001b[0m\u001b[0;34m'fox_news.jsonl'\u001b[0m\u001b[0;34m)\u001b[0m \u001b[0;32mas\u001b[0m \u001b[0mf\u001b[0m\u001b[0;34m:\u001b[0m\u001b[0;34m\u001b[0m\u001b[0;34m\u001b[0m\u001b[0m\n\u001b[0m\u001b[1;32m      3\u001b[0m     \u001b[0;32mfor\u001b[0m \u001b[0mline\u001b[0m \u001b[0;32min\u001b[0m \u001b[0mf\u001b[0m\u001b[0;34m:\u001b[0m\u001b[0;34m\u001b[0m\u001b[0;34m\u001b[0m\u001b[0m\n\u001b[1;32m      4\u001b[0m         \u001b[0mjs\u001b[0m \u001b[0;34m=\u001b[0m \u001b[0mjson\u001b[0m\u001b[0;34m.\u001b[0m\u001b[0mloads\u001b[0m\u001b[0;34m(\u001b[0m\u001b[0mline\u001b[0m\u001b[0;34m)\u001b[0m\u001b[0;34m\u001b[0m\u001b[0;34m\u001b[0m\u001b[0m\n\u001b[1;32m      5\u001b[0m         \u001b[0mfox_text\u001b[0m\u001b[0;34m.\u001b[0m\u001b[0mappend\u001b[0m\u001b[0;34m(\u001b[0m\u001b[0mjs\u001b[0m\u001b[0;34m[\u001b[0m\u001b[0;34m'bodytext'\u001b[0m\u001b[0;34m]\u001b[0m\u001b[0;34m)\u001b[0m\u001b[0;34m\u001b[0m\u001b[0;34m\u001b[0m\u001b[0m\n",
            "\u001b[0;31mFileNotFoundError\u001b[0m: [Errno 2] No such file or directory: 'fox_news.jsonl'"
          ]
        }
      ]
    },
    {
      "cell_type": "code",
      "source": [
        "from newspaper import Article\n",
        "from tqdm import tqdm\n",
        "\n",
        "def getNewsDict(url_list):\n",
        "\n",
        "  # Your key should be the news title and value should be the article text of the news.\n",
        "  newsDict = {}\n",
        "  # IMPLEMENT YOUR CODE HERE:# \n",
        "  \n",
        "  return newsDict\n",
        "\n",
        "\n",
        "abcNews = getNewsDict(abcUrlList)\n",
        "foxNews = getNewsDict(foxUrlList)"
      ],
      "metadata": {
        "colab": {
          "base_uri": "https://localhost:8080/",
          "height": 224
        },
        "id": "uvzICiZjDdda",
        "outputId": "689fdb7c-d741-4131-9fce-723c11841ced"
      },
      "execution_count": 108,
      "outputs": [
        {
          "output_type": "error",
          "ename": "NameError",
          "evalue": "ignored",
          "traceback": [
            "\u001b[0;31m---------------------------------------------------------------------------\u001b[0m",
            "\u001b[0;31mNameError\u001b[0m                                 Traceback (most recent call last)",
            "\u001b[0;32m<ipython-input-108-fcc69eda824e>\u001b[0m in \u001b[0;36m<module>\u001b[0;34m\u001b[0m\n\u001b[1;32m     11\u001b[0m \u001b[0;34m\u001b[0m\u001b[0m\n\u001b[1;32m     12\u001b[0m \u001b[0;34m\u001b[0m\u001b[0m\n\u001b[0;32m---> 13\u001b[0;31m \u001b[0mabcNews\u001b[0m \u001b[0;34m=\u001b[0m \u001b[0mgetNewsDict\u001b[0m\u001b[0;34m(\u001b[0m\u001b[0mabcUrlList\u001b[0m\u001b[0;34m)\u001b[0m\u001b[0;34m\u001b[0m\u001b[0;34m\u001b[0m\u001b[0m\n\u001b[0m\u001b[1;32m     14\u001b[0m \u001b[0mfoxNews\u001b[0m \u001b[0;34m=\u001b[0m \u001b[0mgetNewsDict\u001b[0m\u001b[0;34m(\u001b[0m\u001b[0mfoxUrlList\u001b[0m\u001b[0;34m)\u001b[0m\u001b[0;34m\u001b[0m\u001b[0;34m\u001b[0m\u001b[0m\n",
            "\u001b[0;31mNameError\u001b[0m: name 'abcUrlList' is not defined"
          ]
        }
      ]
    },
    {
      "cell_type": "code",
      "source": [
        "# Here is a function you could load the text data if your saved data follows\n",
        "# the format we provide the in first lab section code.\n",
        "\n",
        "def loadNewsTexts(csvPath):\n",
        "\n",
        "  # the function returns two dictionaries, one for ABC news text data and one for Fox news text data\n",
        "\n",
        "  abcNewsRawTextDict = {}\n",
        "  foxNewsRawTextDict = {}\n",
        "  with open(csvPath, newline='') as csvfile:\n",
        "    reader = csv.DictReader(csvfile)\n",
        "    for row in reader:\n",
        "      if (row['newsSource'] == \"ABCNews\"):\n",
        "        abcNewsRawTextDict[row['newsTitle']] = row['newsContents']\n",
        "      else:\n",
        "        foxNewsRawTextDict[row['newsTitle']] = row['newsContents']\n",
        "\n",
        "  return abcNewsRawTextDict,foxNewsRawTextDict\n",
        "\n",
        "# Load your news text data here\n",
        "# abcNewsDict,foxNewsDict = loadNewsTexts('./newsContents.csv')"
      ],
      "metadata": {
        "id": "8ZPJhCy0A06k"
      },
      "execution_count": 105,
      "outputs": []
    },
    {
      "cell_type": "code",
      "source": [
        "abc_words = []\n",
        "for text in abc_sentences:\n",
        "    for word in text:\n",
        "        if (word!='pm' and word!='nt'):\n",
        "            abc_words.append(word)"
      ],
      "metadata": {
        "id": "ZPDzIl3pQBRo"
      },
      "execution_count": null,
      "outputs": []
    },
    {
      "cell_type": "code",
      "source": [
        "fox_words = []\n",
        "for text in fox_sentences:\n",
        "    for word in text:\n",
        "        fox_words.append(word)"
      ],
      "metadata": {
        "id": "veUaby5AQCA9"
      },
      "execution_count": null,
      "outputs": []
    },
    {
      "cell_type": "code",
      "source": [
        "make_wordcloud(\" \".join(abc_words), 'abc_news.png')"
      ],
      "metadata": {
        "id": "vNQr3EAGQFgx"
      },
      "execution_count": null,
      "outputs": []
    },
    {
      "cell_type": "code",
      "source": [
        "make_wordcloud(\" \".join(fox_words), 'fox_news.png')"
      ],
      "metadata": {
        "id": "mGxYO7kvQP3K"
      },
      "execution_count": null,
      "outputs": []
    }
  ]
}