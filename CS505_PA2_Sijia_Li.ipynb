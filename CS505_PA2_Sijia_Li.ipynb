{
  "nbformat": 4,
  "nbformat_minor": 0,
  "metadata": {
    "colab": {
      "provenance": [],
      "collapsed_sections": [],
      "authorship_tag": "ABX9TyNSix1V7VbXj4YAMBnBjwHO",
      "include_colab_link": true
    },
    "kernelspec": {
      "name": "python3",
      "display_name": "Python 3"
    },
    "language_info": {
      "name": "python"
    }
  },
  "cells": [
    {
      "cell_type": "markdown",
      "metadata": {
        "id": "view-in-github",
        "colab_type": "text"
      },
      "source": [
        "<a href=\"https://colab.research.google.com/github/scartt/CS505_PA/blob/main/CS505_PA2_Sijia_Li.ipynb\" target=\"_parent\"><img src=\"https://colab.research.google.com/assets/colab-badge.svg\" alt=\"Open In Colab\"/></a>"
      ]
    },
    {
      "cell_type": "code",
      "execution_count": null,
      "metadata": {
        "colab": {
          "base_uri": "https://localhost:8080/"
        },
        "id": "UnfdTcO9KH20",
        "outputId": "b95bb1fa-cd2c-4239-c93f-355d1c07bd3a"
      },
      "outputs": [
        {
          "output_type": "stream",
          "name": "stdout",
          "text": [
            "Mounted at /content/drive\n"
          ]
        }
      ],
      "source": [
        "from google.colab import drive\n",
        "drive.mount('/content/drive')"
      ]
    },
    {
      "cell_type": "code",
      "source": [
        "#Step 1: installing tweepy, the tool to scrap data from Twitter (before that, please make sure you have your Bearer ready)\n",
        "!pip3 install tweepy\n",
        "!pip3 install tweepy --upgrade # make sure your tweepy is up-to-date (>=4.10.1), otherwise there's a chance your won't be able to interact with Twitter API v2.\n",
        "#Restart Runtime might be needed."
      ],
      "metadata": {
        "colab": {
          "base_uri": "https://localhost:8080/"
        },
        "id": "8jd0bPMnKahJ",
        "outputId": "230a24a3-84ee-4a34-f9a0-865210232722"
      },
      "execution_count": null,
      "outputs": [
        {
          "output_type": "stream",
          "name": "stdout",
          "text": [
            "Looking in indexes: https://pypi.org/simple, https://us-python.pkg.dev/colab-wheels/public/simple/\n",
            "Requirement already satisfied: tweepy in /usr/local/lib/python3.7/dist-packages (3.10.0)\n",
            "Requirement already satisfied: requests-oauthlib>=0.7.0 in /usr/local/lib/python3.7/dist-packages (from tweepy) (1.3.1)\n",
            "Requirement already satisfied: six>=1.10.0 in /usr/local/lib/python3.7/dist-packages (from tweepy) (1.15.0)\n",
            "Requirement already satisfied: requests[socks]>=2.11.1 in /usr/local/lib/python3.7/dist-packages (from tweepy) (2.23.0)\n",
            "Requirement already satisfied: oauthlib>=3.0.0 in /usr/local/lib/python3.7/dist-packages (from requests-oauthlib>=0.7.0->tweepy) (3.2.0)\n",
            "Requirement already satisfied: chardet<4,>=3.0.2 in /usr/local/lib/python3.7/dist-packages (from requests[socks]>=2.11.1->tweepy) (3.0.4)\n",
            "Requirement already satisfied: idna<3,>=2.5 in /usr/local/lib/python3.7/dist-packages (from requests[socks]>=2.11.1->tweepy) (2.10)\n",
            "Requirement already satisfied: certifi>=2017.4.17 in /usr/local/lib/python3.7/dist-packages (from requests[socks]>=2.11.1->tweepy) (2022.6.15)\n",
            "Requirement already satisfied: urllib3!=1.25.0,!=1.25.1,<1.26,>=1.21.1 in /usr/local/lib/python3.7/dist-packages (from requests[socks]>=2.11.1->tweepy) (1.24.3)\n",
            "Requirement already satisfied: PySocks!=1.5.7,>=1.5.6 in /usr/local/lib/python3.7/dist-packages (from requests[socks]>=2.11.1->tweepy) (1.7.1)\n",
            "Looking in indexes: https://pypi.org/simple, https://us-python.pkg.dev/colab-wheels/public/simple/\n",
            "Requirement already satisfied: tweepy in /usr/local/lib/python3.7/dist-packages (3.10.0)\n",
            "Collecting tweepy\n",
            "  Downloading tweepy-4.10.1-py3-none-any.whl (94 kB)\n",
            "\u001b[K     |████████████████████████████████| 94 kB 2.2 MB/s \n",
            "\u001b[?25hRequirement already satisfied: requests-oauthlib<2,>=1.2.0 in /usr/local/lib/python3.7/dist-packages (from tweepy) (1.3.1)\n",
            "Collecting requests<3,>=2.27.0\n",
            "  Downloading requests-2.28.1-py3-none-any.whl (62 kB)\n",
            "\u001b[K     |████████████████████████████████| 62 kB 1.2 MB/s \n",
            "\u001b[?25hRequirement already satisfied: oauthlib<4,>=3.2.0 in /usr/local/lib/python3.7/dist-packages (from tweepy) (3.2.0)\n",
            "Requirement already satisfied: urllib3<1.27,>=1.21.1 in /usr/local/lib/python3.7/dist-packages (from requests<3,>=2.27.0->tweepy) (1.24.3)\n",
            "Requirement already satisfied: idna<4,>=2.5 in /usr/local/lib/python3.7/dist-packages (from requests<3,>=2.27.0->tweepy) (2.10)\n",
            "Requirement already satisfied: charset-normalizer<3,>=2 in /usr/local/lib/python3.7/dist-packages (from requests<3,>=2.27.0->tweepy) (2.1.1)\n",
            "Requirement already satisfied: certifi>=2017.4.17 in /usr/local/lib/python3.7/dist-packages (from requests<3,>=2.27.0->tweepy) (2022.6.15)\n",
            "Installing collected packages: requests, tweepy\n",
            "  Attempting uninstall: requests\n",
            "    Found existing installation: requests 2.23.0\n",
            "    Uninstalling requests-2.23.0:\n",
            "      Successfully uninstalled requests-2.23.0\n",
            "  Attempting uninstall: tweepy\n",
            "    Found existing installation: tweepy 3.10.0\n",
            "    Uninstalling tweepy-3.10.0:\n",
            "      Successfully uninstalled tweepy-3.10.0\n",
            "Successfully installed requests-2.28.1 tweepy-4.10.1\n"
          ]
        }
      ]
    },
    {
      "cell_type": "code",
      "source": [
        "#Step 2: initiate your client\n",
        "# You will need to get your bearer token from the email sent to you.\n",
        "import tweepy\n",
        "client = tweepy.Client(bearer_token='AAAAAAAAAAAAAAAAAAAAAF5XhQEAAAAAvA5I9cICfHVWO75mcl1xwXPKkII%3DtpGIaqOiMZTYnuj8UwsllAxOw7ZhU7AVxraUPSjIVU81PuKxQL') # replace with your bearer token here.\n"
      ],
      "metadata": {
        "id": "VRIjelCGKdjE"
      },
      "execution_count": null,
      "outputs": []
    },
    {
      "cell_type": "code",
      "source": [
        "query = 'football lang:en -is:retweet'\n",
        "tweets_foot = list(tweepy.Paginator(client.search_recent_tweets, query=query, tweet_fields=['context_annotations', 'created_at'], max_results=100).flatten(limit=10000))\n",
        "print(\"{} tweets are collected.\".format(len(tweets_foot)))"
      ],
      "metadata": {
        "colab": {
          "base_uri": "https://localhost:8080/"
        },
        "id": "FEQxQg_gKfGm",
        "outputId": "3436aa85-3dbf-4539-8d50-a812784268d6"
      },
      "execution_count": null,
      "outputs": [
        {
          "output_type": "stream",
          "name": "stdout",
          "text": [
            "10000 tweets are collected.\n"
          ]
        }
      ]
    },
    {
      "cell_type": "code",
      "source": [
        "query = 'fishing lang:en -is:retweet'\n",
        "tweets_fish = list(tweepy.Paginator(client.search_recent_tweets, query=query, tweet_fields=['context_annotations', 'created_at'], max_results=100).flatten(limit=10000))\n",
        "print(\"{} tweets are collected.\".format(len(tweets_fish)))"
      ],
      "metadata": {
        "colab": {
          "base_uri": "https://localhost:8080/"
        },
        "id": "HeglGFvVKsTL",
        "outputId": "4b3343c1-2b43-45b3-8365-6f7eb37c2370"
      },
      "execution_count": null,
      "outputs": [
        {
          "output_type": "stream",
          "name": "stdout",
          "text": [
            "10000 tweets are collected.\n"
          ]
        }
      ]
    },
    {
      "cell_type": "code",
      "source": [
        "import csv\n",
        "driveFolderDirectory = '/content/drive/MyDrive/Colab Notebooks'\n",
        "savedFileName = 'tweets_foot.csv'\n",
        "pathToSave = driveFolderDirectory + savedFileName\n",
        "\n",
        "with open(pathToSave, 'w', newline='') as csvfile:\n",
        "  fieldnames = ['idx','tweetId', 'tweetText']\n",
        "  writer = csv.DictWriter(csvfile, fieldnames=fieldnames)\n",
        "  writer.writeheader()\n",
        "  for i,tweet in enumerate(tweets_foot):\n",
        "    writer.writerow({'idx': i, 'tweetId': tweet.id,'tweetText': tweet.data['text']})"
      ],
      "metadata": {
        "id": "u192d_PJK642"
      },
      "execution_count": null,
      "outputs": []
    },
    {
      "cell_type": "code",
      "source": [
        "savedFileName = 'tweets_fish.csv'\n",
        "pathToSave = driveFolderDirectory + savedFileName\n",
        "\n",
        "with open(pathToSave, 'w', newline='') as csvfile:\n",
        "  fieldnames = ['idx','tweetId', 'tweetText']\n",
        "  writer = csv.DictWriter(csvfile, fieldnames=fieldnames)\n",
        "  writer.writeheader()\n",
        "  for i,tweet in enumerate(tweets_fish):\n",
        "    writer.writerow({'idx': i, 'tweetId': tweet.id,'tweetText': tweet.data['text']})"
      ],
      "metadata": {
        "id": "9yeBVwSaLMmN"
      },
      "execution_count": null,
      "outputs": []
    },
    {
      "cell_type": "markdown",
      "source": [
        "## Task 1"
      ],
      "metadata": {
        "id": "Q70zJ-dILsGW"
      }
    },
    {
      "cell_type": "code",
      "source": [
        "import pandas as pd\n",
        "df = pd.read_csv(\"/content/drive/MyDrive/tweets.csv\",index_col=0)\n",
        "df.head(10)\n",
        "\n",
        "#load your fishing tweet data here:\n",
        "# csvPathFish = \"/tweets_fish.csv\"\n",
        "# rawTweetDictFish = loadTextFromCSV(csvPathFish)\n",
        "\n",
        "#print your tweet dictionary. You should see your saved tweets inside.\n",
        "# print(\"rawTweetDictFish: \",rawTweetDictFish)"
      ],
      "metadata": {
        "id": "ZIsMxPELLse5",
        "colab": {
          "base_uri": "https://localhost:8080/",
          "height": 394
        },
        "outputId": "0b58d085-e215-4c07-a1d6-5ca9abcac352"
      },
      "execution_count": null,
      "outputs": [
        {
          "output_type": "execute_result",
          "data": {
            "text/plain": [
              "                 tweetId                                          tweetText\n",
              "idx                                                                        \n",
              "0    1572758273194852353        @Football__Tweet @ManUtd Such a wild volley\n",
              "1    1572758269063462913  مفاجأة مدوية.. محمد صلاح قد يغادر معسكر منتخب ...\n",
              "2    1572758267633221635  @Palpyte1 @nflrums Maybe you’re better off wat...\n",
              "3    1572758266555285504  @jimmybuxbux @NFLonFOX He deleted it during th...\n",
              "4    1572758265867403268  قائد الزمالك السابق يقترب من الداخلية https://...\n",
              "5    1572758262378024961  كولر يحفز لاعبي الأهلي بمكافأة كبيرة قبل بداية...\n",
              "6    1572758257286152192  @smiznith @BVSZN23 @ColinCowherd @OU_Football ...\n",
              "7    1572758251867078657  @PRINCE_ANGELUS_ @KeishaBoston @EmmanuelAcho @...\n",
              "8    1572758244124401664  @ClowESPN @GatorsFB @Vol_Football 1990.  Sold ...\n",
              "9    1572758242308096003  Taking it to the Football Team in WSH on Sunda..."
            ],
            "text/html": [
              "\n",
              "  <div id=\"df-e4fd0451-c99d-490e-a5db-5e393b09c7fa\">\n",
              "    <div class=\"colab-df-container\">\n",
              "      <div>\n",
              "<style scoped>\n",
              "    .dataframe tbody tr th:only-of-type {\n",
              "        vertical-align: middle;\n",
              "    }\n",
              "\n",
              "    .dataframe tbody tr th {\n",
              "        vertical-align: top;\n",
              "    }\n",
              "\n",
              "    .dataframe thead th {\n",
              "        text-align: right;\n",
              "    }\n",
              "</style>\n",
              "<table border=\"1\" class=\"dataframe\">\n",
              "  <thead>\n",
              "    <tr style=\"text-align: right;\">\n",
              "      <th></th>\n",
              "      <th>tweetId</th>\n",
              "      <th>tweetText</th>\n",
              "    </tr>\n",
              "    <tr>\n",
              "      <th>idx</th>\n",
              "      <th></th>\n",
              "      <th></th>\n",
              "    </tr>\n",
              "  </thead>\n",
              "  <tbody>\n",
              "    <tr>\n",
              "      <th>0</th>\n",
              "      <td>1572758273194852353</td>\n",
              "      <td>@Football__Tweet @ManUtd Such a wild volley</td>\n",
              "    </tr>\n",
              "    <tr>\n",
              "      <th>1</th>\n",
              "      <td>1572758269063462913</td>\n",
              "      <td>مفاجأة مدوية.. محمد صلاح قد يغادر معسكر منتخب ...</td>\n",
              "    </tr>\n",
              "    <tr>\n",
              "      <th>2</th>\n",
              "      <td>1572758267633221635</td>\n",
              "      <td>@Palpyte1 @nflrums Maybe you’re better off wat...</td>\n",
              "    </tr>\n",
              "    <tr>\n",
              "      <th>3</th>\n",
              "      <td>1572758266555285504</td>\n",
              "      <td>@jimmybuxbux @NFLonFOX He deleted it during th...</td>\n",
              "    </tr>\n",
              "    <tr>\n",
              "      <th>4</th>\n",
              "      <td>1572758265867403268</td>\n",
              "      <td>قائد الزمالك السابق يقترب من الداخلية https://...</td>\n",
              "    </tr>\n",
              "    <tr>\n",
              "      <th>5</th>\n",
              "      <td>1572758262378024961</td>\n",
              "      <td>كولر يحفز لاعبي الأهلي بمكافأة كبيرة قبل بداية...</td>\n",
              "    </tr>\n",
              "    <tr>\n",
              "      <th>6</th>\n",
              "      <td>1572758257286152192</td>\n",
              "      <td>@smiznith @BVSZN23 @ColinCowherd @OU_Football ...</td>\n",
              "    </tr>\n",
              "    <tr>\n",
              "      <th>7</th>\n",
              "      <td>1572758251867078657</td>\n",
              "      <td>@PRINCE_ANGELUS_ @KeishaBoston @EmmanuelAcho @...</td>\n",
              "    </tr>\n",
              "    <tr>\n",
              "      <th>8</th>\n",
              "      <td>1572758244124401664</td>\n",
              "      <td>@ClowESPN @GatorsFB @Vol_Football 1990.  Sold ...</td>\n",
              "    </tr>\n",
              "    <tr>\n",
              "      <th>9</th>\n",
              "      <td>1572758242308096003</td>\n",
              "      <td>Taking it to the Football Team in WSH on Sunda...</td>\n",
              "    </tr>\n",
              "  </tbody>\n",
              "</table>\n",
              "</div>\n",
              "      <button class=\"colab-df-convert\" onclick=\"convertToInteractive('df-e4fd0451-c99d-490e-a5db-5e393b09c7fa')\"\n",
              "              title=\"Convert this dataframe to an interactive table.\"\n",
              "              style=\"display:none;\">\n",
              "        \n",
              "  <svg xmlns=\"http://www.w3.org/2000/svg\" height=\"24px\"viewBox=\"0 0 24 24\"\n",
              "       width=\"24px\">\n",
              "    <path d=\"M0 0h24v24H0V0z\" fill=\"none\"/>\n",
              "    <path d=\"M18.56 5.44l.94 2.06.94-2.06 2.06-.94-2.06-.94-.94-2.06-.94 2.06-2.06.94zm-11 1L8.5 8.5l.94-2.06 2.06-.94-2.06-.94L8.5 2.5l-.94 2.06-2.06.94zm10 10l.94 2.06.94-2.06 2.06-.94-2.06-.94-.94-2.06-.94 2.06-2.06.94z\"/><path d=\"M17.41 7.96l-1.37-1.37c-.4-.4-.92-.59-1.43-.59-.52 0-1.04.2-1.43.59L10.3 9.45l-7.72 7.72c-.78.78-.78 2.05 0 2.83L4 21.41c.39.39.9.59 1.41.59.51 0 1.02-.2 1.41-.59l7.78-7.78 2.81-2.81c.8-.78.8-2.07 0-2.86zM5.41 20L4 18.59l7.72-7.72 1.47 1.35L5.41 20z\"/>\n",
              "  </svg>\n",
              "      </button>\n",
              "      \n",
              "  <style>\n",
              "    .colab-df-container {\n",
              "      display:flex;\n",
              "      flex-wrap:wrap;\n",
              "      gap: 12px;\n",
              "    }\n",
              "\n",
              "    .colab-df-convert {\n",
              "      background-color: #E8F0FE;\n",
              "      border: none;\n",
              "      border-radius: 50%;\n",
              "      cursor: pointer;\n",
              "      display: none;\n",
              "      fill: #1967D2;\n",
              "      height: 32px;\n",
              "      padding: 0 0 0 0;\n",
              "      width: 32px;\n",
              "    }\n",
              "\n",
              "    .colab-df-convert:hover {\n",
              "      background-color: #E2EBFA;\n",
              "      box-shadow: 0px 1px 2px rgba(60, 64, 67, 0.3), 0px 1px 3px 1px rgba(60, 64, 67, 0.15);\n",
              "      fill: #174EA6;\n",
              "    }\n",
              "\n",
              "    [theme=dark] .colab-df-convert {\n",
              "      background-color: #3B4455;\n",
              "      fill: #D2E3FC;\n",
              "    }\n",
              "\n",
              "    [theme=dark] .colab-df-convert:hover {\n",
              "      background-color: #434B5C;\n",
              "      box-shadow: 0px 1px 3px 1px rgba(0, 0, 0, 0.15);\n",
              "      filter: drop-shadow(0px 1px 2px rgba(0, 0, 0, 0.3));\n",
              "      fill: #FFFFFF;\n",
              "    }\n",
              "  </style>\n",
              "\n",
              "      <script>\n",
              "        const buttonEl =\n",
              "          document.querySelector('#df-e4fd0451-c99d-490e-a5db-5e393b09c7fa button.colab-df-convert');\n",
              "        buttonEl.style.display =\n",
              "          google.colab.kernel.accessAllowed ? 'block' : 'none';\n",
              "\n",
              "        async function convertToInteractive(key) {\n",
              "          const element = document.querySelector('#df-e4fd0451-c99d-490e-a5db-5e393b09c7fa');\n",
              "          const dataTable =\n",
              "            await google.colab.kernel.invokeFunction('convertToInteractive',\n",
              "                                                     [key], {});\n",
              "          if (!dataTable) return;\n",
              "\n",
              "          const docLinkHtml = 'Like what you see? Visit the ' +\n",
              "            '<a target=\"_blank\" href=https://colab.research.google.com/notebooks/data_table.ipynb>data table notebook</a>'\n",
              "            + ' to learn more about interactive tables.';\n",
              "          element.innerHTML = '';\n",
              "          dataTable['output_type'] = 'display_data';\n",
              "          await google.colab.output.renderOutput(dataTable, element);\n",
              "          const docLink = document.createElement('div');\n",
              "          docLink.innerHTML = docLinkHtml;\n",
              "          element.appendChild(docLink);\n",
              "        }\n",
              "      </script>\n",
              "    </div>\n",
              "  </div>\n",
              "  "
            ]
          },
          "metadata": {},
          "execution_count": 20
        }
      ]
    },
    {
      "cell_type": "markdown",
      "source": [
        "## Task 2"
      ],
      "metadata": {
        "id": "af0aO2QJO16D"
      }
    },
    {
      "cell_type": "code",
      "source": [
        "!pip install nltk"
      ],
      "metadata": {
        "colab": {
          "base_uri": "https://localhost:8080/"
        },
        "id": "me4kj14gO26b",
        "outputId": "aa452de7-02c7-43d2-ebee-f13b2afbc140"
      },
      "execution_count": null,
      "outputs": [
        {
          "output_type": "stream",
          "name": "stdout",
          "text": [
            "Looking in indexes: https://pypi.org/simple, https://us-python.pkg.dev/colab-wheels/public/simple/\n",
            "Requirement already satisfied: nltk in /usr/local/lib/python3.7/dist-packages (3.7)\n",
            "Requirement already satisfied: click in /usr/local/lib/python3.7/dist-packages (from nltk) (7.1.2)\n",
            "Requirement already satisfied: regex>=2021.8.3 in /usr/local/lib/python3.7/dist-packages (from nltk) (2022.6.2)\n",
            "Requirement already satisfied: joblib in /usr/local/lib/python3.7/dist-packages (from nltk) (1.1.0)\n",
            "Requirement already satisfied: tqdm in /usr/local/lib/python3.7/dist-packages (from nltk) (4.64.1)\n"
          ]
        }
      ]
    },
    {
      "cell_type": "code",
      "source": [
        "import nltk\n",
        "nltk.download('punkt')"
      ],
      "metadata": {
        "colab": {
          "base_uri": "https://localhost:8080/"
        },
        "id": "09N74XteO4dy",
        "outputId": "903372aa-ed0a-4a98-c007-554be962782b"
      },
      "execution_count": null,
      "outputs": [
        {
          "output_type": "stream",
          "name": "stderr",
          "text": [
            "[nltk_data] Downloading package punkt to /root/nltk_data...\n",
            "[nltk_data]   Unzipping tokenizers/punkt.zip.\n"
          ]
        },
        {
          "output_type": "execute_result",
          "data": {
            "text/plain": [
              "True"
            ]
          },
          "metadata": {},
          "execution_count": 22
        }
      ]
    },
    {
      "cell_type": "code",
      "source": [
        "# Here's a template you may want to start with for your data pre-processing.\n",
        "\n",
        "def preprocess(rawTweetDataDict,ngram):\n",
        "  #Input: a dictionary contains raw tweet data scraped from Tweeter\n",
        "\n",
        "  #Output: two lists of tweet sentences (train/test), but each tweet sentence is\n",
        "  #     represented in the form of tokens.\n",
        "  def sentenceSegmentation(tweet):\n",
        "    #Input: a string of raw tweet\n",
        "    \n",
        "    #Output: a list of strings, each element in the list is a segmented sentence\n",
        "\n",
        "    pass\n",
        "  def sentenceLowerCase(sentence):\n",
        "    #Input: a string of sentence\n",
        "\n",
        "    #Output: a string of sentence, but all words in the sentence are lower-cased.\n",
        "    pass\n",
        "  def sentenceTokenization(sentence):\n",
        "    #Input: a string of sentence\n",
        "\n",
        "    #Output: a list of tokens that belong to the sentence.\n",
        "    pass\n",
        "  pass"
      ],
      "metadata": {
        "id": "45ShxWcAO5w8"
      },
      "execution_count": null,
      "outputs": []
    },
    {
      "cell_type": "markdown",
      "source": [
        "## Task 3"
      ],
      "metadata": {
        "id": "IDhzPO90bVi0"
      }
    },
    {
      "cell_type": "code",
      "source": [
        "# Here's a template you may want to start with\n",
        "\n",
        "def trainNGramAddOneSmoothing(trainData,ngram):\n",
        "  # Input: a list of tweet sentences, each element is a list of tokens; n for ngram model\n",
        "  \n",
        "  # Output: a n-gram model with add-one smoothing trained on your input data. \n",
        "  pass\n"
      ],
      "metadata": {
        "id": "Xx3GVHsqbXVh"
      },
      "execution_count": null,
      "outputs": []
    },
    {
      "cell_type": "code",
      "source": [],
      "metadata": {
        "id": "Tw0A_IaUbYXq"
      },
      "execution_count": null,
      "outputs": []
    }
  ]
}