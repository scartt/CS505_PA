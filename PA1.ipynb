{
  "nbformat": 4,
  "nbformat_minor": 0,
  "metadata": {
    "colab": {
      "provenance": [],
      "collapsed_sections": [],
      "authorship_tag": "ABX9TyNAyCEw6fpvGeTK0EgcyPBa",
      "include_colab_link": true
    },
    "kernelspec": {
      "name": "python3",
      "display_name": "Python 3"
    },
    "language_info": {
      "name": "python"
    }
  },
  "cells": [
    {
      "cell_type": "markdown",
      "metadata": {
        "id": "view-in-github",
        "colab_type": "text"
      },
      "source": [
        "<a href=\"https://colab.research.google.com/github/scartt/CS505_PA/blob/main/PA1.ipynb\" target=\"_parent\"><img src=\"https://colab.research.google.com/assets/colab-badge.svg\" alt=\"Open In Colab\"/></a>"
      ]
    },
    {
      "cell_type": "code",
      "execution_count": 142,
      "metadata": {
        "id": "XAOpI0Y8xlY6"
      },
      "outputs": [],
      "source": [
        "# CS505 PA1\n",
        "# Sijia Li\n",
        "# scartt@bu.edu"
      ]
    },
    {
      "cell_type": "code",
      "source": [
        "from google.colab import drive\n",
        "drive.mount('/content/drive')"
      ],
      "metadata": {
        "colab": {
          "base_uri": "https://localhost:8080/"
        },
        "id": "WGsQTSkUxul1",
        "outputId": "e6994e07-f761-451d-bf2a-0e9cbdcd7268"
      },
      "execution_count": 143,
      "outputs": [
        {
          "output_type": "stream",
          "name": "stdout",
          "text": [
            "Drive already mounted at /content/drive; to attempt to forcibly remount, call drive.mount(\"/content/drive\", force_remount=True).\n"
          ]
        }
      ]
    },
    {
      "cell_type": "code",
      "source": [
        "#Step 1: installing tweepy, the tool to scrap data from Twitter (before that, please make sure you have your Bearer ready)\n",
        "!pip3 install tweepy\n",
        "!pip3 install tweepy --upgrade # make sure your tweepy is up-to-date (>=4.10.1), otherwise there's a chance your won't be able to interact with Twitter API v2.\n",
        "#Restart Runtime might be needed."
      ],
      "metadata": {
        "colab": {
          "base_uri": "https://localhost:8080/"
        },
        "id": "WbERzPblxvDO",
        "outputId": "282a25d2-0eb6-4c0e-a0c7-b7b14827a766"
      },
      "execution_count": 144,
      "outputs": [
        {
          "output_type": "stream",
          "name": "stdout",
          "text": [
            "Looking in indexes: https://pypi.org/simple, https://us-python.pkg.dev/colab-wheels/public/simple/\n",
            "Requirement already satisfied: tweepy in /usr/local/lib/python3.7/dist-packages (4.10.1)\n",
            "Requirement already satisfied: requests<3,>=2.27.0 in /usr/local/lib/python3.7/dist-packages (from tweepy) (2.28.1)\n",
            "Requirement already satisfied: oauthlib<4,>=3.2.0 in /usr/local/lib/python3.7/dist-packages (from tweepy) (3.2.0)\n",
            "Requirement already satisfied: requests-oauthlib<2,>=1.2.0 in /usr/local/lib/python3.7/dist-packages (from tweepy) (1.3.1)\n",
            "Requirement already satisfied: charset-normalizer<3,>=2 in /usr/local/lib/python3.7/dist-packages (from requests<3,>=2.27.0->tweepy) (2.1.1)\n",
            "Requirement already satisfied: idna<4,>=2.5 in /usr/local/lib/python3.7/dist-packages (from requests<3,>=2.27.0->tweepy) (2.10)\n",
            "Requirement already satisfied: certifi>=2017.4.17 in /usr/local/lib/python3.7/dist-packages (from requests<3,>=2.27.0->tweepy) (2022.6.15)\n",
            "Requirement already satisfied: urllib3<1.27,>=1.21.1 in /usr/local/lib/python3.7/dist-packages (from requests<3,>=2.27.0->tweepy) (1.24.3)\n",
            "Looking in indexes: https://pypi.org/simple, https://us-python.pkg.dev/colab-wheels/public/simple/\n",
            "Requirement already satisfied: tweepy in /usr/local/lib/python3.7/dist-packages (4.10.1)\n",
            "Requirement already satisfied: oauthlib<4,>=3.2.0 in /usr/local/lib/python3.7/dist-packages (from tweepy) (3.2.0)\n",
            "Requirement already satisfied: requests<3,>=2.27.0 in /usr/local/lib/python3.7/dist-packages (from tweepy) (2.28.1)\n",
            "Requirement already satisfied: requests-oauthlib<2,>=1.2.0 in /usr/local/lib/python3.7/dist-packages (from tweepy) (1.3.1)\n",
            "Requirement already satisfied: idna<4,>=2.5 in /usr/local/lib/python3.7/dist-packages (from requests<3,>=2.27.0->tweepy) (2.10)\n",
            "Requirement already satisfied: urllib3<1.27,>=1.21.1 in /usr/local/lib/python3.7/dist-packages (from requests<3,>=2.27.0->tweepy) (1.24.3)\n",
            "Requirement already satisfied: charset-normalizer<3,>=2 in /usr/local/lib/python3.7/dist-packages (from requests<3,>=2.27.0->tweepy) (2.1.1)\n",
            "Requirement already satisfied: certifi>=2017.4.17 in /usr/local/lib/python3.7/dist-packages (from requests<3,>=2.27.0->tweepy) (2022.6.15)\n"
          ]
        }
      ]
    },
    {
      "cell_type": "code",
      "source": [
        "#Step 2: initiate your client\n",
        "# You will need to get your bearer token from the email sent to you.\n",
        "import tweepy\n",
        "client = tweepy.Client(bearer_token='AAAAAAAAAAAAAAAAAAAAAF5XhQEAAAAAvA5I9cICfHVWO75mcl1xwXPKkII%3DtpGIaqOiMZTYnuj8UwsllAxOw7ZhU7AVxraUPSjIVU81PuKxQL') # replace with your bearer token here."
      ],
      "metadata": {
        "id": "uY_PE_vcyIPc"
      },
      "execution_count": 145,
      "outputs": []
    },
    {
      "cell_type": "code",
      "source": [
        "query = 'football -is:retweet'\n",
        "tweets = list(tweepy.Paginator(client.search_recent_tweets, query=query, tweet_fields=['context_annotations', 'created_at'], max_results=100).flatten(limit=1000))\n",
        "print(\"{} tweets are collected.\".format(len(tweets)))"
      ],
      "metadata": {
        "colab": {
          "base_uri": "https://localhost:8080/"
        },
        "id": "H5BzP0R1ykUx",
        "outputId": "9b4d3a1d-208d-4b4d-f3f5-82618b980cd9"
      },
      "execution_count": 146,
      "outputs": [
        {
          "output_type": "stream",
          "name": "stdout",
          "text": [
            "1000 tweets are collected.\n"
          ]
        }
      ]
    },
    {
      "cell_type": "code",
      "source": [
        "import csv\n",
        "import re\n",
        "\n",
        "driveFolderDirectory = '/content/drive/MyDrive/Colab Notebooks' \n",
        "savedFileName = 'tweets.csv'\n",
        "pathToSave = driveFolderDirectory + savedFileName\n",
        "\n",
        "with open(pathToSave, 'w', newline='') as csvfile:\n",
        "  fieldnames = ['idx','tweetId', 'tweetText']\n",
        "  writer = csv.DictWriter(csvfile, fieldnames=fieldnames)\n",
        "  writer.writeheader()\n",
        "  for i,tweet in enumerate(tweets):\n",
        "    writer.writerow({'idx': i, 'tweetId': tweet.id,'tweetText': tweet.data['text']})"
      ],
      "metadata": {
        "id": "nnbJCOnXzYpP"
      },
      "execution_count": 147,
      "outputs": []
    },
    {
      "cell_type": "code",
      "source": [
        "# TASK 1: Convert all capital letters into lower case\n",
        "f = open(\"/content/drive/MyDrive/tweets.csv\", \"r\")\n",
        "print(f.readline())\n",
        "print(f.readline())\n",
        "print(f.readline())"
      ],
      "metadata": {
        "colab": {
          "base_uri": "https://localhost:8080/"
        },
        "id": "vmL7YyW4yoXo",
        "outputId": "25d88502-a220-4d94-9678-6af99ab9f663"
      },
      "execution_count": 148,
      "outputs": [
        {
          "output_type": "stream",
          "name": "stdout",
          "text": [
            "idx,tweetId,tweetText\n",
            "\n",
            "0,1572758273194852353,@Football__Tweet @ManUtd Such a wild volley\n",
            "\n",
            "1,1572758269063462913,مفاجأة مدوية.. محمد صلاح قد يغادر معسكر منتخب مصر https://t.co/0iuvPvsqFy\n",
            "\n"
          ]
        }
      ]
    },
    {
      "cell_type": "code",
      "source": [
        "import pandas as pd\n",
        "df = pd.read_csv(\"/content/drive/MyDrive/tweets.csv\",index_col=0)\n",
        "df.head(10)"
      ],
      "metadata": {
        "colab": {
          "base_uri": "https://localhost:8080/",
          "height": 394
        },
        "id": "1v0k52Sz5HP_",
        "outputId": "82380c3b-c0f6-409b-b734-360556785c36"
      },
      "execution_count": 149,
      "outputs": [
        {
          "output_type": "execute_result",
          "data": {
            "text/plain": [
              "                 tweetId                                          tweetText\n",
              "idx                                                                        \n",
              "0    1572758273194852353        @Football__Tweet @ManUtd Such a wild volley\n",
              "1    1572758269063462913  مفاجأة مدوية.. محمد صلاح قد يغادر معسكر منتخب ...\n",
              "2    1572758267633221635  @Palpyte1 @nflrums Maybe you’re better off wat...\n",
              "3    1572758266555285504  @jimmybuxbux @NFLonFOX He deleted it during th...\n",
              "4    1572758265867403268  قائد الزمالك السابق يقترب من الداخلية https://...\n",
              "5    1572758262378024961  كولر يحفز لاعبي الأهلي بمكافأة كبيرة قبل بداية...\n",
              "6    1572758257286152192  @smiznith @BVSZN23 @ColinCowherd @OU_Football ...\n",
              "7    1572758251867078657  @PRINCE_ANGELUS_ @KeishaBoston @EmmanuelAcho @...\n",
              "8    1572758244124401664  @ClowESPN @GatorsFB @Vol_Football 1990.  Sold ...\n",
              "9    1572758242308096003  Taking it to the Football Team in WSH on Sunda..."
            ],
            "text/html": [
              "\n",
              "  <div id=\"df-3feea084-27ee-44d0-9af9-1687fb96292b\">\n",
              "    <div class=\"colab-df-container\">\n",
              "      <div>\n",
              "<style scoped>\n",
              "    .dataframe tbody tr th:only-of-type {\n",
              "        vertical-align: middle;\n",
              "    }\n",
              "\n",
              "    .dataframe tbody tr th {\n",
              "        vertical-align: top;\n",
              "    }\n",
              "\n",
              "    .dataframe thead th {\n",
              "        text-align: right;\n",
              "    }\n",
              "</style>\n",
              "<table border=\"1\" class=\"dataframe\">\n",
              "  <thead>\n",
              "    <tr style=\"text-align: right;\">\n",
              "      <th></th>\n",
              "      <th>tweetId</th>\n",
              "      <th>tweetText</th>\n",
              "    </tr>\n",
              "    <tr>\n",
              "      <th>idx</th>\n",
              "      <th></th>\n",
              "      <th></th>\n",
              "    </tr>\n",
              "  </thead>\n",
              "  <tbody>\n",
              "    <tr>\n",
              "      <th>0</th>\n",
              "      <td>1572758273194852353</td>\n",
              "      <td>@Football__Tweet @ManUtd Such a wild volley</td>\n",
              "    </tr>\n",
              "    <tr>\n",
              "      <th>1</th>\n",
              "      <td>1572758269063462913</td>\n",
              "      <td>مفاجأة مدوية.. محمد صلاح قد يغادر معسكر منتخب ...</td>\n",
              "    </tr>\n",
              "    <tr>\n",
              "      <th>2</th>\n",
              "      <td>1572758267633221635</td>\n",
              "      <td>@Palpyte1 @nflrums Maybe you’re better off wat...</td>\n",
              "    </tr>\n",
              "    <tr>\n",
              "      <th>3</th>\n",
              "      <td>1572758266555285504</td>\n",
              "      <td>@jimmybuxbux @NFLonFOX He deleted it during th...</td>\n",
              "    </tr>\n",
              "    <tr>\n",
              "      <th>4</th>\n",
              "      <td>1572758265867403268</td>\n",
              "      <td>قائد الزمالك السابق يقترب من الداخلية https://...</td>\n",
              "    </tr>\n",
              "    <tr>\n",
              "      <th>5</th>\n",
              "      <td>1572758262378024961</td>\n",
              "      <td>كولر يحفز لاعبي الأهلي بمكافأة كبيرة قبل بداية...</td>\n",
              "    </tr>\n",
              "    <tr>\n",
              "      <th>6</th>\n",
              "      <td>1572758257286152192</td>\n",
              "      <td>@smiznith @BVSZN23 @ColinCowherd @OU_Football ...</td>\n",
              "    </tr>\n",
              "    <tr>\n",
              "      <th>7</th>\n",
              "      <td>1572758251867078657</td>\n",
              "      <td>@PRINCE_ANGELUS_ @KeishaBoston @EmmanuelAcho @...</td>\n",
              "    </tr>\n",
              "    <tr>\n",
              "      <th>8</th>\n",
              "      <td>1572758244124401664</td>\n",
              "      <td>@ClowESPN @GatorsFB @Vol_Football 1990.  Sold ...</td>\n",
              "    </tr>\n",
              "    <tr>\n",
              "      <th>9</th>\n",
              "      <td>1572758242308096003</td>\n",
              "      <td>Taking it to the Football Team in WSH on Sunda...</td>\n",
              "    </tr>\n",
              "  </tbody>\n",
              "</table>\n",
              "</div>\n",
              "      <button class=\"colab-df-convert\" onclick=\"convertToInteractive('df-3feea084-27ee-44d0-9af9-1687fb96292b')\"\n",
              "              title=\"Convert this dataframe to an interactive table.\"\n",
              "              style=\"display:none;\">\n",
              "        \n",
              "  <svg xmlns=\"http://www.w3.org/2000/svg\" height=\"24px\"viewBox=\"0 0 24 24\"\n",
              "       width=\"24px\">\n",
              "    <path d=\"M0 0h24v24H0V0z\" fill=\"none\"/>\n",
              "    <path d=\"M18.56 5.44l.94 2.06.94-2.06 2.06-.94-2.06-.94-.94-2.06-.94 2.06-2.06.94zm-11 1L8.5 8.5l.94-2.06 2.06-.94-2.06-.94L8.5 2.5l-.94 2.06-2.06.94zm10 10l.94 2.06.94-2.06 2.06-.94-2.06-.94-.94-2.06-.94 2.06-2.06.94z\"/><path d=\"M17.41 7.96l-1.37-1.37c-.4-.4-.92-.59-1.43-.59-.52 0-1.04.2-1.43.59L10.3 9.45l-7.72 7.72c-.78.78-.78 2.05 0 2.83L4 21.41c.39.39.9.59 1.41.59.51 0 1.02-.2 1.41-.59l7.78-7.78 2.81-2.81c.8-.78.8-2.07 0-2.86zM5.41 20L4 18.59l7.72-7.72 1.47 1.35L5.41 20z\"/>\n",
              "  </svg>\n",
              "      </button>\n",
              "      \n",
              "  <style>\n",
              "    .colab-df-container {\n",
              "      display:flex;\n",
              "      flex-wrap:wrap;\n",
              "      gap: 12px;\n",
              "    }\n",
              "\n",
              "    .colab-df-convert {\n",
              "      background-color: #E8F0FE;\n",
              "      border: none;\n",
              "      border-radius: 50%;\n",
              "      cursor: pointer;\n",
              "      display: none;\n",
              "      fill: #1967D2;\n",
              "      height: 32px;\n",
              "      padding: 0 0 0 0;\n",
              "      width: 32px;\n",
              "    }\n",
              "\n",
              "    .colab-df-convert:hover {\n",
              "      background-color: #E2EBFA;\n",
              "      box-shadow: 0px 1px 2px rgba(60, 64, 67, 0.3), 0px 1px 3px 1px rgba(60, 64, 67, 0.15);\n",
              "      fill: #174EA6;\n",
              "    }\n",
              "\n",
              "    [theme=dark] .colab-df-convert {\n",
              "      background-color: #3B4455;\n",
              "      fill: #D2E3FC;\n",
              "    }\n",
              "\n",
              "    [theme=dark] .colab-df-convert:hover {\n",
              "      background-color: #434B5C;\n",
              "      box-shadow: 0px 1px 3px 1px rgba(0, 0, 0, 0.15);\n",
              "      filter: drop-shadow(0px 1px 2px rgba(0, 0, 0, 0.3));\n",
              "      fill: #FFFFFF;\n",
              "    }\n",
              "  </style>\n",
              "\n",
              "      <script>\n",
              "        const buttonEl =\n",
              "          document.querySelector('#df-3feea084-27ee-44d0-9af9-1687fb96292b button.colab-df-convert');\n",
              "        buttonEl.style.display =\n",
              "          google.colab.kernel.accessAllowed ? 'block' : 'none';\n",
              "\n",
              "        async function convertToInteractive(key) {\n",
              "          const element = document.querySelector('#df-3feea084-27ee-44d0-9af9-1687fb96292b');\n",
              "          const dataTable =\n",
              "            await google.colab.kernel.invokeFunction('convertToInteractive',\n",
              "                                                     [key], {});\n",
              "          if (!dataTable) return;\n",
              "\n",
              "          const docLinkHtml = 'Like what you see? Visit the ' +\n",
              "            '<a target=\"_blank\" href=https://colab.research.google.com/notebooks/data_table.ipynb>data table notebook</a>'\n",
              "            + ' to learn more about interactive tables.';\n",
              "          element.innerHTML = '';\n",
              "          dataTable['output_type'] = 'display_data';\n",
              "          await google.colab.output.renderOutput(dataTable, element);\n",
              "          const docLink = document.createElement('div');\n",
              "          docLink.innerHTML = docLinkHtml;\n",
              "          element.appendChild(docLink);\n",
              "        }\n",
              "      </script>\n",
              "    </div>\n",
              "  </div>\n",
              "  "
            ]
          },
          "metadata": {},
          "execution_count": 149
        }
      ]
    },
    {
      "cell_type": "code",
      "source": [
        "import string\n",
        "# helper function to convert upper to lowercase\n",
        "def convert_to_lower(text):\n",
        "    if text.group() is not None:\n",
        "        return text.group().lower()\n",
        "\n",
        "# Loop through the dataframe\n",
        "i = 0\n",
        "while i < len(df):\n",
        "  str = df['tweetText'][i]\n",
        "  # pass replacement function to re.sub()\n",
        "  df['tweetText'][i] = re.sub(r\"[A-Z]\", convert_to_lower, str)\n",
        "  i += 1\n",
        "print(df['tweetText'])"
      ],
      "metadata": {
        "colab": {
          "base_uri": "https://localhost:8080/"
        },
        "id": "ingsZyb9LoJu",
        "outputId": "b345d13e-7395-4b09-9bfe-17f4ce635eef"
      },
      "execution_count": 150,
      "outputs": [
        {
          "output_type": "stream",
          "name": "stderr",
          "text": [
            "/usr/local/lib/python3.7/dist-packages/ipykernel_launcher.py:12: SettingWithCopyWarning: \n",
            "A value is trying to be set on a copy of a slice from a DataFrame\n",
            "\n",
            "See the caveats in the documentation: https://pandas.pydata.org/pandas-docs/stable/user_guide/indexing.html#returning-a-view-versus-a-copy\n",
            "  if sys.path[0] == '':\n"
          ]
        },
        {
          "output_type": "stream",
          "name": "stdout",
          "text": [
            "idx\n",
            "0            @football__tweet @manutd such a wild volley\n",
            "1      مفاجأة مدوية.. محمد صلاح قد يغادر معسكر منتخب ...\n",
            "2      @palpyte1 @nflrums maybe you’re better off wat...\n",
            "3      @jimmybuxbux @nflonfox he deleted it during th...\n",
            "4      قائد الزمالك السابق يقترب من الداخلية https://...\n",
            "                             ...                        \n",
            "995    @patmcafeeshow @dariusjbutler @dariusjbutler b...\n",
            "996    kittitas/thorp vs river view hs football 2022 ...\n",
            "997                               @sk10_football ماردونا\n",
            "998    atascocita qb zion brown (@zionqb) \\ngrowing i...\n",
            "999    to the swans &amp; cats. at the first bounce p...\n",
            "Name: tweetText, Length: 1000, dtype: object\n"
          ]
        }
      ]
    },
    {
      "cell_type": "code",
      "source": [
        "# TASK 2: Remove from the text all hashtags, all URLs, and all numbers (e.g., prices, floating-point, integers, etc.).\n",
        "# Loop through the dataframe\n",
        "i = 0\n",
        "while i < len(df):\n",
        "  str = df['tweetText'][i]\n",
        "  # pass replacement function to re.sub()\n",
        "  df['tweetText'][i] = ' '.join(re.sub(\"(@[A-Za-z0-9]+)|([^0-9A-Za-z \\t])|(\\w+:\\/\\/\\S+)\",\" \",str).split())\n",
        "  i += 1\n",
        "print(df['tweetText'])"
      ],
      "metadata": {
        "colab": {
          "base_uri": "https://localhost:8080/"
        },
        "id": "CNPHXZ8cyrnu",
        "outputId": "3edcb90c-2d72-475e-ddab-4d83a37f9026"
      },
      "execution_count": 151,
      "outputs": [
        {
          "output_type": "stream",
          "name": "stdout",
          "text": [
            "idx\n",
            "0                               tweet such a wild volley\n",
            "1                                                       \n",
            "2      maybe you re better off watching flag football...\n",
            "3      he deleted it during the summer to focus on fo...\n",
            "4                                                       \n",
            "                             ...                        \n",
            "995    best defensive football teacher on the planet ...\n",
            "996    kittitas thorp vs river view hs football 2022 ...\n",
            "997                                             football\n",
            "998    atascocita qb zion brown growing into leadersh...\n",
            "999    to the swans amp cats at the first bounce plea...\n",
            "Name: tweetText, Length: 1000, dtype: object\n"
          ]
        },
        {
          "output_type": "stream",
          "name": "stderr",
          "text": [
            "/usr/local/lib/python3.7/dist-packages/ipykernel_launcher.py:7: SettingWithCopyWarning: \n",
            "A value is trying to be set on a copy of a slice from a DataFrame\n",
            "\n",
            "See the caveats in the documentation: https://pandas.pydata.org/pandas-docs/stable/user_guide/indexing.html#returning-a-view-versus-a-copy\n",
            "  import sys\n"
          ]
        }
      ]
    },
    {
      "cell_type": "code",
      "source": [
        "# TASK 3: Remove the affixes -ing, -ed, and -ly from all words. \n",
        "i = 0\n",
        "while i < len(df):\n",
        "  str = df['tweetText'][i]\n",
        "  # pass replacement function to re.sub()\n",
        "  df['tweetText'][i] = ' '.join(re.sub(\"ing|ed|ly\",\" \",str).split())\n",
        "  i += 1\n",
        "print(df['tweetText'])"
      ],
      "metadata": {
        "colab": {
          "base_uri": "https://localhost:8080/"
        },
        "id": "e5_KGVh5ytbO",
        "outputId": "dad2244a-3c78-4c67-e090-dd676fccef7a"
      },
      "execution_count": 152,
      "outputs": [
        {
          "output_type": "stream",
          "name": "stdout",
          "text": [
            "idx\n",
            "0                               tweet such a wild volley\n",
            "1                                                       \n",
            "2      maybe you re better off watch flag football i ...\n",
            "3      he delet it dur the summer to focus on footbal...\n",
            "4                                                       \n",
            "                             ...                        \n",
            "995    best defensive football teacher on the planet ...\n",
            "996    kittitas thorp vs river view hs football 2022 ...\n",
            "997                                             football\n",
            "998    atascocita qb zion brown grow into leadership ...\n",
            "999    to the swans amp cats at the first bounce plea...\n",
            "Name: tweetText, Length: 1000, dtype: object\n"
          ]
        },
        {
          "output_type": "stream",
          "name": "stderr",
          "text": [
            "/usr/local/lib/python3.7/dist-packages/ipykernel_launcher.py:6: SettingWithCopyWarning: \n",
            "A value is trying to be set on a copy of a slice from a DataFrame\n",
            "\n",
            "See the caveats in the documentation: https://pandas.pydata.org/pandas-docs/stable/user_guide/indexing.html#returning-a-view-versus-a-copy\n",
            "  \n"
          ]
        }
      ]
    },
    {
      "cell_type": "code",
      "source": [
        "# TASK 4: Replace all forms of the verb “to be” with the stem be. \n",
        "i = 0\n",
        "while i < len(df):\n",
        "  str = df['tweetText'][i]\n",
        "  # pass replacement function to re.sub()\n",
        "  df['tweetText'][i] = ' '.join(re.sub(\"be|am|is|are|was|were|being|been\",\"be\",str).split())\n",
        "  i += 1\n",
        "print(df['tweetText'])"
      ],
      "metadata": {
        "colab": {
          "base_uri": "https://localhost:8080/"
        },
        "id": "RTE7w21vyteV",
        "outputId": "e5ff6fc1-ba3c-4e62-ec45-217beabc73ab"
      },
      "execution_count": 153,
      "outputs": [
        {
          "output_type": "stream",
          "name": "stdout",
          "text": [
            "idx\n",
            "0                               tweet such a wild volley\n",
            "1                                                       \n",
            "2      maybe you re better off watch flag football i ...\n",
            "3      he delet it dur the summer to focus on footbal...\n",
            "4                                                       \n",
            "                             ...                        \n",
            "995    best defensive football teacher on the planet ...\n",
            "996    kittitas thorp vs river view hs football 2022 ...\n",
            "997                                             football\n",
            "998    atascocita qb zion brown grow into leadership ...\n",
            "999    to the swans bep cats at the first bounce plea...\n",
            "Name: tweetText, Length: 1000, dtype: object\n"
          ]
        },
        {
          "output_type": "stream",
          "name": "stderr",
          "text": [
            "/usr/local/lib/python3.7/dist-packages/ipykernel_launcher.py:6: SettingWithCopyWarning: \n",
            "A value is trying to be set on a copy of a slice from a DataFrame\n",
            "\n",
            "See the caveats in the documentation: https://pandas.pydata.org/pandas-docs/stable/user_guide/indexing.html#returning-a-view-versus-a-copy\n",
            "  \n"
          ]
        }
      ]
    },
    {
      "cell_type": "code",
      "source": [
        "# TASK 5: Remove all instances of the 10 most common words in English.\n",
        "i = 0\n",
        "while i < len(df):\n",
        "  str = df['tweetText'][i]\n",
        "  # pass replacement function to re.sub()\n",
        "  # df['tweetText'][i] = re.sub(r'(?<![a-z])[and|that|but|so|if|about|get|when|can|the](?![a-z])', ' ', str, flags=re.IGNORECASE)\n",
        "  df['tweetText'][i] = re.sub(' and | that | but | on | if | about | get | when | can | the ', ' ', str, flags=re.IGNORECASE)\n",
        "  i += 1\n",
        "print(df['tweetText'][:20])"
      ],
      "metadata": {
        "colab": {
          "base_uri": "https://localhost:8080/"
        },
        "id": "lnThYqAmytg6",
        "outputId": "81497fd9-7346-400a-c106-d148f35d5b98"
      },
      "execution_count": 160,
      "outputs": [
        {
          "output_type": "stream",
          "name": "stderr",
          "text": [
            "/usr/local/lib/python3.7/dist-packages/ipykernel_launcher.py:7: SettingWithCopyWarning: \n",
            "A value is trying to be set on a copy of a slice from a DataFrame\n",
            "\n",
            "See the caveats in the documentation: https://pandas.pydata.org/pandas-docs/stable/user_guide/indexing.html#returning-a-view-versus-a-copy\n",
            "  import sys\n"
          ]
        },
        {
          "output_type": "stream",
          "name": "stdout",
          "text": [
            "idx\n",
            "0                              tweet such a wild volley\n",
            "1                                                      \n",
            "2     maybe you re better off watch flag football i ...\n",
            "3     he delet it dur summer to focus football s wha...\n",
            "4                                                      \n",
            "5                                                      \n",
            "6                       football yea sum strange go huh\n",
            "7     angelus you re at gbee you see whole field you...\n",
            "8                   football 1990 sold cokes in stadium\n",
            "9                 tak it to football tebe in wsh sunday\n",
            "10                                        football bale\n",
            "11                                     football go vols\n",
            "12    never he had a little football hang in mirror ...\n",
            "13    bro said dbemantle like i didn t watch footbal...\n",
            "14                                    football my kaleb\n",
            "15    i said for better or for worse because maybe t...\n",
            "16    mercato pochettino et leonardo en clash depube...\n",
            "17    very proud of my boy not sure how he does it b...\n",
            "18                            football sbee for me 1984\n",
            "19    ngapain klub juara mls ikutan harusnya juara n...\n",
            "Name: tweetText, dtype: object\n"
          ]
        }
      ]
    },
    {
      "cell_type": "code",
      "source": [
        "# TASK 6: Remove numbers.\n",
        "i = 0\n",
        "while i < len(df):\n",
        "  str = df['tweetText'][i]\n",
        "  # pass replacement function to re.sub()\n",
        "  df['tweetText'][i] = re.sub(\" \\d+\", \"\", str)\n",
        "  if df['tweetText'][i] == '':\n",
        "    df.drop(i)\n",
        "  i += 1\n",
        "print(df['tweetText'][:20])"
      ],
      "metadata": {
        "colab": {
          "base_uri": "https://localhost:8080/"
        },
        "id": "bVmXSiZ5ytjc",
        "outputId": "19b61fc6-f98f-42f9-f990-61aa39b71076"
      },
      "execution_count": 180,
      "outputs": [
        {
          "output_type": "stream",
          "name": "stderr",
          "text": [
            "/usr/local/lib/python3.7/dist-packages/ipykernel_launcher.py:6: SettingWithCopyWarning: \n",
            "A value is trying to be set on a copy of a slice from a DataFrame\n",
            "\n",
            "See the caveats in the documentation: https://pandas.pydata.org/pandas-docs/stable/user_guide/indexing.html#returning-a-view-versus-a-copy\n",
            "  \n"
          ]
        },
        {
          "output_type": "stream",
          "name": "stdout",
          "text": [
            "idx\n",
            "0                              tweet such a wild volley\n",
            "1                                                      \n",
            "2     maybe you re better off watch flag football i ...\n",
            "3     he delet it dur summer to focus football s wha...\n",
            "4                                                      \n",
            "5                                                      \n",
            "6                       football yea sum strange go huh\n",
            "7     angelus you re at gbee you see whole field you...\n",
            "8                        football sold cokes in stadium\n",
            "9                 tak it to football tebe in wsh sunday\n",
            "10                                        football bale\n",
            "11                                     football go vols\n",
            "12    never he had a little football hang in mirror ...\n",
            "13    bro said dbemantle like i didn t watch footbal...\n",
            "14                                    football my kaleb\n",
            "15    i said for better or for worse because maybe t...\n",
            "16    mercato pochettino et leonardo en clash depube...\n",
            "17    very proud of my boy not sure how he does it b...\n",
            "18                                 football sbee for me\n",
            "19    ngapain klub juara mls ikutan harusnya juara n...\n",
            "Name: tweetText, dtype: object\n"
          ]
        }
      ]
    },
    {
      "cell_type": "code",
      "source": [
        "# TASK 7: Tokenization\n",
        "df['tweetText_new'] = df['tweetText_new']\n",
        "i = 0\n",
        "while i < len(df):\n",
        "  str = df['tweetText'][i]\n",
        "  df['tweetText_new'][i]=re.split(\"\\W+\",str) \n",
        "  i += 1\n",
        "df.head()"
      ],
      "metadata": {
        "colab": {
          "base_uri": "https://localhost:8080/",
          "height": 328
        },
        "id": "ld6jJ0aZu-x8",
        "outputId": "9d05bb60-65c5-4ba4-b0a3-b9dff1bd2c2e"
      },
      "execution_count": 175,
      "outputs": [
        {
          "output_type": "stream",
          "name": "stderr",
          "text": [
            "/usr/local/lib/python3.7/dist-packages/ipykernel_launcher.py:6: SettingWithCopyWarning: \n",
            "A value is trying to be set on a copy of a slice from a DataFrame\n",
            "\n",
            "See the caveats in the documentation: https://pandas.pydata.org/pandas-docs/stable/user_guide/indexing.html#returning-a-view-versus-a-copy\n",
            "  \n"
          ]
        },
        {
          "output_type": "execute_result",
          "data": {
            "text/plain": [
              "                 tweetId                                          tweetText  \\\n",
              "idx                                                                           \n",
              "0    1572758273194852353                           tweet such a wild volley   \n",
              "1    1572758269063462913                                                      \n",
              "2    1572758267633221635  maybe you re better off watch flag football i ...   \n",
              "3    1572758266555285504  he delet it dur summer to focus football s wha...   \n",
              "4    1572758265867403268                                                      \n",
              "\n",
              "                                         tweetText_new len  \n",
              "idx                                                         \n",
              "0                       [tweet, such, a, wild, volley]   5  \n",
              "1                                                   []   1  \n",
              "2    [maybe, you, re, better, off, watch, flag, foo...  18  \n",
              "3    [he, delet, it, dur, summer, to, focus, footba...  20  \n",
              "4                                                   []   1  "
            ],
            "text/html": [
              "\n",
              "  <div id=\"df-254c9b6c-7419-42e5-9745-12adef61c233\">\n",
              "    <div class=\"colab-df-container\">\n",
              "      <div>\n",
              "<style scoped>\n",
              "    .dataframe tbody tr th:only-of-type {\n",
              "        vertical-align: middle;\n",
              "    }\n",
              "\n",
              "    .dataframe tbody tr th {\n",
              "        vertical-align: top;\n",
              "    }\n",
              "\n",
              "    .dataframe thead th {\n",
              "        text-align: right;\n",
              "    }\n",
              "</style>\n",
              "<table border=\"1\" class=\"dataframe\">\n",
              "  <thead>\n",
              "    <tr style=\"text-align: right;\">\n",
              "      <th></th>\n",
              "      <th>tweetId</th>\n",
              "      <th>tweetText</th>\n",
              "      <th>tweetText_new</th>\n",
              "      <th>len</th>\n",
              "    </tr>\n",
              "    <tr>\n",
              "      <th>idx</th>\n",
              "      <th></th>\n",
              "      <th></th>\n",
              "      <th></th>\n",
              "      <th></th>\n",
              "    </tr>\n",
              "  </thead>\n",
              "  <tbody>\n",
              "    <tr>\n",
              "      <th>0</th>\n",
              "      <td>1572758273194852353</td>\n",
              "      <td>tweet such a wild volley</td>\n",
              "      <td>[tweet, such, a, wild, volley]</td>\n",
              "      <td>5</td>\n",
              "    </tr>\n",
              "    <tr>\n",
              "      <th>1</th>\n",
              "      <td>1572758269063462913</td>\n",
              "      <td></td>\n",
              "      <td>[]</td>\n",
              "      <td>1</td>\n",
              "    </tr>\n",
              "    <tr>\n",
              "      <th>2</th>\n",
              "      <td>1572758267633221635</td>\n",
              "      <td>maybe you re better off watch flag football i ...</td>\n",
              "      <td>[maybe, you, re, better, off, watch, flag, foo...</td>\n",
              "      <td>18</td>\n",
              "    </tr>\n",
              "    <tr>\n",
              "      <th>3</th>\n",
              "      <td>1572758266555285504</td>\n",
              "      <td>he delet it dur summer to focus football s wha...</td>\n",
              "      <td>[he, delet, it, dur, summer, to, focus, footba...</td>\n",
              "      <td>20</td>\n",
              "    </tr>\n",
              "    <tr>\n",
              "      <th>4</th>\n",
              "      <td>1572758265867403268</td>\n",
              "      <td></td>\n",
              "      <td>[]</td>\n",
              "      <td>1</td>\n",
              "    </tr>\n",
              "  </tbody>\n",
              "</table>\n",
              "</div>\n",
              "      <button class=\"colab-df-convert\" onclick=\"convertToInteractive('df-254c9b6c-7419-42e5-9745-12adef61c233')\"\n",
              "              title=\"Convert this dataframe to an interactive table.\"\n",
              "              style=\"display:none;\">\n",
              "        \n",
              "  <svg xmlns=\"http://www.w3.org/2000/svg\" height=\"24px\"viewBox=\"0 0 24 24\"\n",
              "       width=\"24px\">\n",
              "    <path d=\"M0 0h24v24H0V0z\" fill=\"none\"/>\n",
              "    <path d=\"M18.56 5.44l.94 2.06.94-2.06 2.06-.94-2.06-.94-.94-2.06-.94 2.06-2.06.94zm-11 1L8.5 8.5l.94-2.06 2.06-.94-2.06-.94L8.5 2.5l-.94 2.06-2.06.94zm10 10l.94 2.06.94-2.06 2.06-.94-2.06-.94-.94-2.06-.94 2.06-2.06.94z\"/><path d=\"M17.41 7.96l-1.37-1.37c-.4-.4-.92-.59-1.43-.59-.52 0-1.04.2-1.43.59L10.3 9.45l-7.72 7.72c-.78.78-.78 2.05 0 2.83L4 21.41c.39.39.9.59 1.41.59.51 0 1.02-.2 1.41-.59l7.78-7.78 2.81-2.81c.8-.78.8-2.07 0-2.86zM5.41 20L4 18.59l7.72-7.72 1.47 1.35L5.41 20z\"/>\n",
              "  </svg>\n",
              "      </button>\n",
              "      \n",
              "  <style>\n",
              "    .colab-df-container {\n",
              "      display:flex;\n",
              "      flex-wrap:wrap;\n",
              "      gap: 12px;\n",
              "    }\n",
              "\n",
              "    .colab-df-convert {\n",
              "      background-color: #E8F0FE;\n",
              "      border: none;\n",
              "      border-radius: 50%;\n",
              "      cursor: pointer;\n",
              "      display: none;\n",
              "      fill: #1967D2;\n",
              "      height: 32px;\n",
              "      padding: 0 0 0 0;\n",
              "      width: 32px;\n",
              "    }\n",
              "\n",
              "    .colab-df-convert:hover {\n",
              "      background-color: #E2EBFA;\n",
              "      box-shadow: 0px 1px 2px rgba(60, 64, 67, 0.3), 0px 1px 3px 1px rgba(60, 64, 67, 0.15);\n",
              "      fill: #174EA6;\n",
              "    }\n",
              "\n",
              "    [theme=dark] .colab-df-convert {\n",
              "      background-color: #3B4455;\n",
              "      fill: #D2E3FC;\n",
              "    }\n",
              "\n",
              "    [theme=dark] .colab-df-convert:hover {\n",
              "      background-color: #434B5C;\n",
              "      box-shadow: 0px 1px 3px 1px rgba(0, 0, 0, 0.15);\n",
              "      filter: drop-shadow(0px 1px 2px rgba(0, 0, 0, 0.3));\n",
              "      fill: #FFFFFF;\n",
              "    }\n",
              "  </style>\n",
              "\n",
              "      <script>\n",
              "        const buttonEl =\n",
              "          document.querySelector('#df-254c9b6c-7419-42e5-9745-12adef61c233 button.colab-df-convert');\n",
              "        buttonEl.style.display =\n",
              "          google.colab.kernel.accessAllowed ? 'block' : 'none';\n",
              "\n",
              "        async function convertToInteractive(key) {\n",
              "          const element = document.querySelector('#df-254c9b6c-7419-42e5-9745-12adef61c233');\n",
              "          const dataTable =\n",
              "            await google.colab.kernel.invokeFunction('convertToInteractive',\n",
              "                                                     [key], {});\n",
              "          if (!dataTable) return;\n",
              "\n",
              "          const docLinkHtml = 'Like what you see? Visit the ' +\n",
              "            '<a target=\"_blank\" href=https://colab.research.google.com/notebooks/data_table.ipynb>data table notebook</a>'\n",
              "            + ' to learn more about interactive tables.';\n",
              "          element.innerHTML = '';\n",
              "          dataTable['output_type'] = 'display_data';\n",
              "          await google.colab.output.renderOutput(dataTable, element);\n",
              "          const docLink = document.createElement('div');\n",
              "          docLink.innerHTML = docLinkHtml;\n",
              "          element.appendChild(docLink);\n",
              "        }\n",
              "      </script>\n",
              "    </div>\n",
              "  </div>\n",
              "  "
            ]
          },
          "metadata": {},
          "execution_count": 175
        }
      ]
    },
    {
      "cell_type": "code",
      "source": [
        "# TASK 8: Length of sentences and visualization.\n",
        "df['len'] = df['tweetText_new']\n",
        "i = 0\n",
        "while i < len(df):\n",
        "  df['len'][i] = len(df['tweetText_new'][i])\n",
        "  if df['tweetText_new'][i] == ['']:\n",
        "    df['len'][i] = 0\n",
        "  i += 1\n",
        "df.head(20)"
      ],
      "metadata": {
        "colab": {
          "base_uri": "https://localhost:8080/",
          "height": 889
        },
        "id": "nbLGkjD-rF-A",
        "outputId": "24c080b8-5d6e-43c3-97c5-0c91e9f7098f"
      },
      "execution_count": 186,
      "outputs": [
        {
          "output_type": "stream",
          "name": "stderr",
          "text": [
            "/usr/local/lib/python3.7/dist-packages/ipykernel_launcher.py:5: SettingWithCopyWarning: \n",
            "A value is trying to be set on a copy of a slice from a DataFrame\n",
            "\n",
            "See the caveats in the documentation: https://pandas.pydata.org/pandas-docs/stable/user_guide/indexing.html#returning-a-view-versus-a-copy\n",
            "  \"\"\"\n",
            "/usr/local/lib/python3.7/dist-packages/ipykernel_launcher.py:7: SettingWithCopyWarning: \n",
            "A value is trying to be set on a copy of a slice from a DataFrame\n",
            "\n",
            "See the caveats in the documentation: https://pandas.pydata.org/pandas-docs/stable/user_guide/indexing.html#returning-a-view-versus-a-copy\n",
            "  import sys\n"
          ]
        },
        {
          "output_type": "execute_result",
          "data": {
            "text/plain": [
              "                 tweetId                                          tweetText  \\\n",
              "idx                                                                           \n",
              "0    1572758273194852353                           tweet such a wild volley   \n",
              "1    1572758269063462913                                                      \n",
              "2    1572758267633221635  maybe you re better off watch flag football i ...   \n",
              "3    1572758266555285504  he delet it dur summer to focus football s wha...   \n",
              "4    1572758265867403268                                                      \n",
              "5    1572758262378024961                                                      \n",
              "6    1572758257286152192                    football yea sum strange go huh   \n",
              "7    1572758251867078657  angelus you re at gbee you see whole field you...   \n",
              "8    1572758244124401664                     football sold cokes in stadium   \n",
              "9    1572758242308096003              tak it to football tebe in wsh sunday   \n",
              "10   1572758241385365510                                      football bale   \n",
              "11   1572758237618872326                                   football go vols   \n",
              "12   1572758234779336705  never he had a little football hang in mirror ...   \n",
              "13   1572758231835090944  bro said dbemantle like i didn t watch footbal...   \n",
              "14   1572758230090280965                                  football my kaleb   \n",
              "15   1572758227686944769  i said for better or for worse because maybe t...   \n",
              "16   1572758227678531584  mercato pochettino et leonardo en clash depube...   \n",
              "17   1572758226852282368  very proud of my boy not sure how he does it b...   \n",
              "18   1572758221974274049                               football sbee for me   \n",
              "19   1572758217859690497  ngapain klub juara mls ikutan harusnya juara n...   \n",
              "\n",
              "                                         tweetText_new len  \n",
              "idx                                                         \n",
              "0                       [tweet, such, a, wild, volley]   5  \n",
              "1                                                   []   0  \n",
              "2    [maybe, you, re, better, off, watch, flag, foo...  18  \n",
              "3    [he, delet, it, dur, summer, to, focus, footba...  20  \n",
              "4                                                   []   0  \n",
              "5                                                   []   0  \n",
              "6               [football, yea, sum, strange, go, huh]   6  \n",
              "7    [angelus, you, re, at, gbee, you, see, whole, ...  26  \n",
              "8                 [football, sold, cokes, in, stadium]   5  \n",
              "9       [tak, it, to, football, tebe, in, wsh, sunday]   8  \n",
              "10                                    [football, bale]   2  \n",
              "11                                [football, go, vols]   3  \n",
              "12   [never, he, had, a, little, football, hang, in...  17  \n",
              "13   [bro, said, dbemantle, like, i, didn, t, watch...  35  \n",
              "14                               [football, my, kaleb]   3  \n",
              "15   [i, said, for, better, or, for, worse, because...  41  \n",
              "16   [mercato, pochettino, et, leonardo, en, clash,...  12  \n",
              "17   [very, proud, of, my, boy, not, sure, how, he,...  31  \n",
              "18                           [football, sbee, for, me]   4  \n",
              "19   [ngapain, klub, juara, mls, ikutan, harusnya, ...  10  "
            ],
            "text/html": [
              "\n",
              "  <div id=\"df-bc0e6ad5-daa8-40e0-93a0-f79ccf1b4ff2\">\n",
              "    <div class=\"colab-df-container\">\n",
              "      <div>\n",
              "<style scoped>\n",
              "    .dataframe tbody tr th:only-of-type {\n",
              "        vertical-align: middle;\n",
              "    }\n",
              "\n",
              "    .dataframe tbody tr th {\n",
              "        vertical-align: top;\n",
              "    }\n",
              "\n",
              "    .dataframe thead th {\n",
              "        text-align: right;\n",
              "    }\n",
              "</style>\n",
              "<table border=\"1\" class=\"dataframe\">\n",
              "  <thead>\n",
              "    <tr style=\"text-align: right;\">\n",
              "      <th></th>\n",
              "      <th>tweetId</th>\n",
              "      <th>tweetText</th>\n",
              "      <th>tweetText_new</th>\n",
              "      <th>len</th>\n",
              "    </tr>\n",
              "    <tr>\n",
              "      <th>idx</th>\n",
              "      <th></th>\n",
              "      <th></th>\n",
              "      <th></th>\n",
              "      <th></th>\n",
              "    </tr>\n",
              "  </thead>\n",
              "  <tbody>\n",
              "    <tr>\n",
              "      <th>0</th>\n",
              "      <td>1572758273194852353</td>\n",
              "      <td>tweet such a wild volley</td>\n",
              "      <td>[tweet, such, a, wild, volley]</td>\n",
              "      <td>5</td>\n",
              "    </tr>\n",
              "    <tr>\n",
              "      <th>1</th>\n",
              "      <td>1572758269063462913</td>\n",
              "      <td></td>\n",
              "      <td>[]</td>\n",
              "      <td>0</td>\n",
              "    </tr>\n",
              "    <tr>\n",
              "      <th>2</th>\n",
              "      <td>1572758267633221635</td>\n",
              "      <td>maybe you re better off watch flag football i ...</td>\n",
              "      <td>[maybe, you, re, better, off, watch, flag, foo...</td>\n",
              "      <td>18</td>\n",
              "    </tr>\n",
              "    <tr>\n",
              "      <th>3</th>\n",
              "      <td>1572758266555285504</td>\n",
              "      <td>he delet it dur summer to focus football s wha...</td>\n",
              "      <td>[he, delet, it, dur, summer, to, focus, footba...</td>\n",
              "      <td>20</td>\n",
              "    </tr>\n",
              "    <tr>\n",
              "      <th>4</th>\n",
              "      <td>1572758265867403268</td>\n",
              "      <td></td>\n",
              "      <td>[]</td>\n",
              "      <td>0</td>\n",
              "    </tr>\n",
              "    <tr>\n",
              "      <th>5</th>\n",
              "      <td>1572758262378024961</td>\n",
              "      <td></td>\n",
              "      <td>[]</td>\n",
              "      <td>0</td>\n",
              "    </tr>\n",
              "    <tr>\n",
              "      <th>6</th>\n",
              "      <td>1572758257286152192</td>\n",
              "      <td>football yea sum strange go huh</td>\n",
              "      <td>[football, yea, sum, strange, go, huh]</td>\n",
              "      <td>6</td>\n",
              "    </tr>\n",
              "    <tr>\n",
              "      <th>7</th>\n",
              "      <td>1572758251867078657</td>\n",
              "      <td>angelus you re at gbee you see whole field you...</td>\n",
              "      <td>[angelus, you, re, at, gbee, you, see, whole, ...</td>\n",
              "      <td>26</td>\n",
              "    </tr>\n",
              "    <tr>\n",
              "      <th>8</th>\n",
              "      <td>1572758244124401664</td>\n",
              "      <td>football sold cokes in stadium</td>\n",
              "      <td>[football, sold, cokes, in, stadium]</td>\n",
              "      <td>5</td>\n",
              "    </tr>\n",
              "    <tr>\n",
              "      <th>9</th>\n",
              "      <td>1572758242308096003</td>\n",
              "      <td>tak it to football tebe in wsh sunday</td>\n",
              "      <td>[tak, it, to, football, tebe, in, wsh, sunday]</td>\n",
              "      <td>8</td>\n",
              "    </tr>\n",
              "    <tr>\n",
              "      <th>10</th>\n",
              "      <td>1572758241385365510</td>\n",
              "      <td>football bale</td>\n",
              "      <td>[football, bale]</td>\n",
              "      <td>2</td>\n",
              "    </tr>\n",
              "    <tr>\n",
              "      <th>11</th>\n",
              "      <td>1572758237618872326</td>\n",
              "      <td>football go vols</td>\n",
              "      <td>[football, go, vols]</td>\n",
              "      <td>3</td>\n",
              "    </tr>\n",
              "    <tr>\n",
              "      <th>12</th>\n",
              "      <td>1572758234779336705</td>\n",
              "      <td>never he had a little football hang in mirror ...</td>\n",
              "      <td>[never, he, had, a, little, football, hang, in...</td>\n",
              "      <td>17</td>\n",
              "    </tr>\n",
              "    <tr>\n",
              "      <th>13</th>\n",
              "      <td>1572758231835090944</td>\n",
              "      <td>bro said dbemantle like i didn t watch footbal...</td>\n",
              "      <td>[bro, said, dbemantle, like, i, didn, t, watch...</td>\n",
              "      <td>35</td>\n",
              "    </tr>\n",
              "    <tr>\n",
              "      <th>14</th>\n",
              "      <td>1572758230090280965</td>\n",
              "      <td>football my kaleb</td>\n",
              "      <td>[football, my, kaleb]</td>\n",
              "      <td>3</td>\n",
              "    </tr>\n",
              "    <tr>\n",
              "      <th>15</th>\n",
              "      <td>1572758227686944769</td>\n",
              "      <td>i said for better or for worse because maybe t...</td>\n",
              "      <td>[i, said, for, better, or, for, worse, because...</td>\n",
              "      <td>41</td>\n",
              "    </tr>\n",
              "    <tr>\n",
              "      <th>16</th>\n",
              "      <td>1572758227678531584</td>\n",
              "      <td>mercato pochettino et leonardo en clash depube...</td>\n",
              "      <td>[mercato, pochettino, et, leonardo, en, clash,...</td>\n",
              "      <td>12</td>\n",
              "    </tr>\n",
              "    <tr>\n",
              "      <th>17</th>\n",
              "      <td>1572758226852282368</td>\n",
              "      <td>very proud of my boy not sure how he does it b...</td>\n",
              "      <td>[very, proud, of, my, boy, not, sure, how, he,...</td>\n",
              "      <td>31</td>\n",
              "    </tr>\n",
              "    <tr>\n",
              "      <th>18</th>\n",
              "      <td>1572758221974274049</td>\n",
              "      <td>football sbee for me</td>\n",
              "      <td>[football, sbee, for, me]</td>\n",
              "      <td>4</td>\n",
              "    </tr>\n",
              "    <tr>\n",
              "      <th>19</th>\n",
              "      <td>1572758217859690497</td>\n",
              "      <td>ngapain klub juara mls ikutan harusnya juara n...</td>\n",
              "      <td>[ngapain, klub, juara, mls, ikutan, harusnya, ...</td>\n",
              "      <td>10</td>\n",
              "    </tr>\n",
              "  </tbody>\n",
              "</table>\n",
              "</div>\n",
              "      <button class=\"colab-df-convert\" onclick=\"convertToInteractive('df-bc0e6ad5-daa8-40e0-93a0-f79ccf1b4ff2')\"\n",
              "              title=\"Convert this dataframe to an interactive table.\"\n",
              "              style=\"display:none;\">\n",
              "        \n",
              "  <svg xmlns=\"http://www.w3.org/2000/svg\" height=\"24px\"viewBox=\"0 0 24 24\"\n",
              "       width=\"24px\">\n",
              "    <path d=\"M0 0h24v24H0V0z\" fill=\"none\"/>\n",
              "    <path d=\"M18.56 5.44l.94 2.06.94-2.06 2.06-.94-2.06-.94-.94-2.06-.94 2.06-2.06.94zm-11 1L8.5 8.5l.94-2.06 2.06-.94-2.06-.94L8.5 2.5l-.94 2.06-2.06.94zm10 10l.94 2.06.94-2.06 2.06-.94-2.06-.94-.94-2.06-.94 2.06-2.06.94z\"/><path d=\"M17.41 7.96l-1.37-1.37c-.4-.4-.92-.59-1.43-.59-.52 0-1.04.2-1.43.59L10.3 9.45l-7.72 7.72c-.78.78-.78 2.05 0 2.83L4 21.41c.39.39.9.59 1.41.59.51 0 1.02-.2 1.41-.59l7.78-7.78 2.81-2.81c.8-.78.8-2.07 0-2.86zM5.41 20L4 18.59l7.72-7.72 1.47 1.35L5.41 20z\"/>\n",
              "  </svg>\n",
              "      </button>\n",
              "      \n",
              "  <style>\n",
              "    .colab-df-container {\n",
              "      display:flex;\n",
              "      flex-wrap:wrap;\n",
              "      gap: 12px;\n",
              "    }\n",
              "\n",
              "    .colab-df-convert {\n",
              "      background-color: #E8F0FE;\n",
              "      border: none;\n",
              "      border-radius: 50%;\n",
              "      cursor: pointer;\n",
              "      display: none;\n",
              "      fill: #1967D2;\n",
              "      height: 32px;\n",
              "      padding: 0 0 0 0;\n",
              "      width: 32px;\n",
              "    }\n",
              "\n",
              "    .colab-df-convert:hover {\n",
              "      background-color: #E2EBFA;\n",
              "      box-shadow: 0px 1px 2px rgba(60, 64, 67, 0.3), 0px 1px 3px 1px rgba(60, 64, 67, 0.15);\n",
              "      fill: #174EA6;\n",
              "    }\n",
              "\n",
              "    [theme=dark] .colab-df-convert {\n",
              "      background-color: #3B4455;\n",
              "      fill: #D2E3FC;\n",
              "    }\n",
              "\n",
              "    [theme=dark] .colab-df-convert:hover {\n",
              "      background-color: #434B5C;\n",
              "      box-shadow: 0px 1px 3px 1px rgba(0, 0, 0, 0.15);\n",
              "      filter: drop-shadow(0px 1px 2px rgba(0, 0, 0, 0.3));\n",
              "      fill: #FFFFFF;\n",
              "    }\n",
              "  </style>\n",
              "\n",
              "      <script>\n",
              "        const buttonEl =\n",
              "          document.querySelector('#df-bc0e6ad5-daa8-40e0-93a0-f79ccf1b4ff2 button.colab-df-convert');\n",
              "        buttonEl.style.display =\n",
              "          google.colab.kernel.accessAllowed ? 'block' : 'none';\n",
              "\n",
              "        async function convertToInteractive(key) {\n",
              "          const element = document.querySelector('#df-bc0e6ad5-daa8-40e0-93a0-f79ccf1b4ff2');\n",
              "          const dataTable =\n",
              "            await google.colab.kernel.invokeFunction('convertToInteractive',\n",
              "                                                     [key], {});\n",
              "          if (!dataTable) return;\n",
              "\n",
              "          const docLinkHtml = 'Like what you see? Visit the ' +\n",
              "            '<a target=\"_blank\" href=https://colab.research.google.com/notebooks/data_table.ipynb>data table notebook</a>'\n",
              "            + ' to learn more about interactive tables.';\n",
              "          element.innerHTML = '';\n",
              "          dataTable['output_type'] = 'display_data';\n",
              "          await google.colab.output.renderOutput(dataTable, element);\n",
              "          const docLink = document.createElement('div');\n",
              "          docLink.innerHTML = docLinkHtml;\n",
              "          element.appendChild(docLink);\n",
              "        }\n",
              "      </script>\n",
              "    </div>\n",
              "  </div>\n",
              "  "
            ]
          },
          "metadata": {},
          "execution_count": 186
        }
      ]
    },
    {
      "cell_type": "code",
      "source": [
        "import matplotlib.pyplot as plt\n",
        "import numpy as np\n",
        "\n",
        "x = df['len']\n",
        "w = 2\n",
        "plt.hist(x, edgecolor='black', bins=np.arange(min(x), max(x) + w, w))\n",
        "plt.figure(figsize=(10,10))\n",
        "plt.show()"
      ],
      "metadata": {
        "colab": {
          "base_uri": "https://localhost:8080/",
          "height": 283
        },
        "id": "ccIWc0yaydwG",
        "outputId": "29c70774-eba1-4cd3-bea0-6d43ec1b1ec6"
      },
      "execution_count": 197,
      "outputs": [
        {
          "output_type": "display_data",
          "data": {
            "text/plain": [
              "<Figure size 432x288 with 1 Axes>"
            ],
            "image/png": "[encoded data removed]"
          },
          "metadata": {
            "needs_background": "light"
          }
        },
        {
          "output_type": "display_data",
          "data": {
            "text/plain": [
              "<Figure size 720x720 with 0 Axes>"
            ]
          },
          "metadata": {}
        }
      ]
    }
  ]
}